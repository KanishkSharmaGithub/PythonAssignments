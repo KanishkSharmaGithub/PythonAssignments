{
 "cells": [
  {
   "cell_type": "code",
   "execution_count": null,
   "id": "c8cfc671",
   "metadata": {},
   "outputs": [],
   "source": [
    "Create a function that takes a list of strings and integers, and filters out the list so that it\n",
    "returns a list of integers only.\n",
    "\n",
    "\n",
    "def filter_integers(input_list):\n",
    "    return [x for x in input_list if isinstance(x, int)]\n",
    "\n",
    "# Example usage:\n",
    "mixed_list = [1, 'apple', 3.14, 5, 'banana', 7, 9.8, 10]\n",
    "integers_only = filter_integers(mixed_list)\n",
    "print(f\"The list with only integers: {integers_only}\")"
   ]
  },
  {
   "cell_type": "code",
   "execution_count": null,
   "id": "20221362",
   "metadata": {},
   "outputs": [],
   "source": [
    "Given a list of numbers, create a function which returns the list but with each element&#39;s\n",
    "index in the list added to itself. This means you add 0 to the number at index 0, add 1 to the\n",
    "number at index 1, etc...\n",
    "\n",
    "\n",
    "def add_index_to_elements(input_list):\n",
    "    return [value + index for index, value in enumerate(input_list)]\n",
    "\n",
    "# Example usage:\n",
    "numbers_list = [10, 20, 30, 40, 50]\n",
    "result_list = add_index_to_elements(numbers_list)\n",
    "print(f\"The list with each element's index added: {result_list}\")"
   ]
  },
  {
   "cell_type": "code",
   "execution_count": null,
   "id": "94ccf80f",
   "metadata": {},
   "outputs": [],
   "source": [
    "This Triangular Number Sequence is generated from a pattern of dots that form a triangle.\n",
    "The first 5 numbers of the sequence, or dots, are:\n",
    "1, 3, 6, 10, 15\n",
    "This means that the first triangle has just one dot, the second one has three dots, the third one\n",
    "has 6 dots and so on.\n",
    "Write a function that gives the number of dots with its corresponding triangle number of the sequence.\n",
    "\n",
    "\n",
    "\n",
    "def triangular_number(n):\n",
    "    return (n * (n + 1)) // 2\n",
    "\n",
    "# Example usage:\n",
    "triangle_index = 4  # Replace this with any desired triangle number\n",
    "dots_count = triangular_number(triangle_index)\n",
    "print(f\"The number of dots for triangle number {triangle_index}: {dots_count}\")"
   ]
  },
  {
   "cell_type": "code",
   "execution_count": null,
   "id": "d06bf0de",
   "metadata": {},
   "outputs": [],
   "source": [
    "Create a function that takes a list of numbers between 1 and 10 (excluding one number) and\n",
    "returns the missing number.\n",
    "\n",
    "\n",
    "def find_missing_number(numbers):\n",
    "    expected_sum = sum(range(1, 11))  # Sum of numbers from 1 to 10\n",
    "    actual_sum = sum(numbers)\n",
    "    missing_number = expected_sum - actual_sum\n",
    "    return missing_number\n",
    "\n",
    "# Example usage:\n",
    "number_list = [1, 2, 3, 4, 6, 7, 8, 9, 10]\n",
    "missing_number = find_missing_number(number_list)\n",
    "print(f\"The missing number in the list is: {missing_number}\")"
   ]
  },
  {
   "cell_type": "code",
   "execution_count": null,
   "id": "0bcdcb49",
   "metadata": {},
   "outputs": [],
   "source": []
  }
 ],
 "metadata": {
  "kernelspec": {
   "display_name": "Python 3",
   "language": "python",
   "name": "python3"
  },
  "language_info": {
   "codemirror_mode": {
    "name": "ipython",
    "version": 3
   },
   "file_extension": ".py",
   "mimetype": "text/x-python",
   "name": "python",
   "nbconvert_exporter": "python",
   "pygments_lexer": "ipython3",
   "version": "3.10.9"
  }
 },
 "nbformat": 4,
 "nbformat_minor": 5
}
