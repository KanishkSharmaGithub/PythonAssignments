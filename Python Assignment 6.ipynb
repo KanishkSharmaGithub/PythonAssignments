{
 "cells": [
  {
   "cell_type": "code",
   "execution_count": null,
   "id": "febd4ed0",
   "metadata": {},
   "outputs": [],
   "source": [
    "1. What are escape characters, and how do you use them?\n",
    "\n",
    "Escape characters are special characters used in computer programming and various markup languages to represent characters \n",
    "or sequences of characters that have a specific meaning or function within the language's syntax. \n",
    "\n",
    "\\n: Represents a newline character. It is used to start a new line of text.\n",
    "\\t: Represents a tab character. It is used to create horizontal spacing or indentation.\n",
    "\\r: Represents a carriage return character. It is used to move the cursor to the beginning of the current line."
   ]
  },
  {
   "cell_type": "code",
   "execution_count": null,
   "id": "12d38779",
   "metadata": {},
   "outputs": [],
   "source": [
    "2. What do the escape characters n and t stand for?\n",
    "\n",
    "\"\\n\" - Newline character:\n",
    "\n",
    "The \"\\n\" escape sequence represents a newline character.\n",
    "When it is encountered in a string, it instructs the program or text processor to move the cursor or pointer to the beginning of the next line.\n",
    "It is often used for formatting text and creating line breaks in various programming languages and text editors.\n",
    "\"\\t\" - Tab character:\n",
    "\n",
    "The \"\\t\" escape sequence represents a tab character.\n",
    "When it is encountered in a string, it instructs the program or text processor to insert a horizontal tabulation character,\n",
    "which typically results in an indentation or space equivalent to a certain number of spaces."
   ]
  },
  {
   "cell_type": "code",
   "execution_count": null,
   "id": "19bfb979",
   "metadata": {},
   "outputs": [],
   "source": [
    "3. What is the way to include backslash characters in a string?\n",
    "\n",
    "To include backslash characters in a string in many programming languages, you typically need to escape the backslash itself.\n",
    "This means you use a double backslash \"\\\" to represent a single backslash in the string. The reason for this is that the \n",
    "backslash is often used as an escape character in strings to indicate special characters, so if you want to include an\n",
    "actual backslash, you need to escape it."
   ]
  },
  {
   "cell_type": "code",
   "execution_count": null,
   "id": "7f08ca61",
   "metadata": {},
   "outputs": [],
   "source": [
    "4. The string \"Howl's\" Moving castle is a correct value. Why isn't the single quote character in the word howl's not escaped a problem?\n",
    "\n",
    "The string \"Howl's Moving Castle\" is indeed a correct value in many programming languages and markup languages, including HTML a\n",
    "nd XML, because the single quote character ('), also known as an apostrophe, does not need to be escaped in most contexts.\n",
    "\n",
    "In many programming languages, strings can be enclosed in either single quotes ('), double quotes (\"), or other delimiters,\n",
    "and you can use one type of delimiter to include the other without any issues. "
   ]
  },
  {
   "cell_type": "code",
   "execution_count": null,
   "id": "1eddee3c",
   "metadata": {},
   "outputs": [],
   "source": [
    "6. What are the values of the given expressions?\n",
    "&#39;Hello, world!&#39;[1]\n",
    "&#39;Hello, world!&#39;[0:5]\n",
    "&#39;Hello, world!&#39;[:5]\n",
    "\n",
    "'Hello, world!'[1]\n",
    "'e'\n",
    "\n",
    "'Hello, world!'[0:5]\n",
    "'Hello'\n",
    "\n",
    "'Hello, world!'[:5]\n",
    "'Hello'"
   ]
  },
  {
   "cell_type": "code",
   "execution_count": null,
   "id": "b6687e77",
   "metadata": {},
   "outputs": [],
   "source": [
    "9. What are the methods for right-justifying, left-justifying, and centering a string?\n",
    "\n",
    "\n",
    "Right-Justify (str.rjust(width, fillchar)): This method right-aligns the string within a specified width by adding characters (fillchar) on the left side if necessary. If the width is greater than the string's length, it pads the string on the left side.\n",
    "\n",
    "python\n",
    "Copy code\n",
    "original_str = 'Hello'\n",
    "width = 10\n",
    "right_justified_str = original_str.rjust(width, '*')\n",
    "\n",
    "Left-Justify (str.ljust(width, fillchar)): This method left-aligns the string within a specified width by adding characters (fillchar) on the right side if necessary. If the width is greater than the string's length, it pads the string on the right side.\n",
    "\n",
    "python\n",
    "Copy code\n",
    "original_str = 'Hello'\n",
    "width = 10\n",
    "left_justified_str = original_str.ljust(width, '*')\n",
    "\n"
   ]
  },
  {
   "cell_type": "code",
   "execution_count": null,
   "id": "5446c228",
   "metadata": {},
   "outputs": [],
   "source": [
    "10. What is the best way to remove whitespace characters from the start or end?\n",
    "\n",
    "\n",
    "original_str = \"  Hello, world!   \"\n",
    "stripped_str = original_str.strip()\n",
    "\n",
    "stripped_str = \"Hello, world!\"\n",
    "\n",
    "original_str = \"  Hello, world!   \"\n",
    "left_stripped_str = original_str.lstrip()\n",
    "right_stripped_str = original_str.rstrip()\n",
    "\n",
    "left_stripped_str = \"Hello, world!   \"\n",
    "right_stripped_str = \"  Hello, world!\""
   ]
  },
  {
   "cell_type": "code",
   "execution_count": null,
   "id": "734c2de6",
   "metadata": {},
   "outputs": [],
   "source": []
  }
 ],
 "metadata": {
  "kernelspec": {
   "display_name": "Python 3",
   "language": "python",
   "name": "python3"
  },
  "language_info": {
   "codemirror_mode": {
    "name": "ipython",
    "version": 3
   },
   "file_extension": ".py",
   "mimetype": "text/x-python",
   "name": "python",
   "nbconvert_exporter": "python",
   "pygments_lexer": "ipython3",
   "version": "3.10.9"
  }
 },
 "nbformat": 4,
 "nbformat_minor": 5
}
