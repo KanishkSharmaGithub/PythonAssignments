{
 "cells": [
  {
   "cell_type": "code",
   "execution_count": null,
   "id": "935cab23",
   "metadata": {},
   "outputs": [],
   "source": [
    "1. Why are functions advantageous to have in your programs?\n",
    "\n",
    "1) Code reusability\n",
    "2) Helps in debugging\n",
    "3) Easy Management\n",
    "4) Easy Import"
   ]
  },
  {
   "cell_type": "code",
   "execution_count": null,
   "id": "8e0cad3e",
   "metadata": {},
   "outputs": [],
   "source": [
    "2. When does the code in a function run: when its# specified or when its# called?\n",
    "    \n",
    "A function code is executed when it is called not when it is specified"
   ]
  },
  {
   "cell_type": "code",
   "execution_count": null,
   "id": "d7f19c8b",
   "metadata": {},
   "outputs": [],
   "source": [
    "3. What statement creates a function?\n",
    "\n",
    "To create a function, we must first declare it and give it a name, the same way we'd create any variable, and then we follow it by a function definition"
   ]
  },
  {
   "cell_type": "code",
   "execution_count": null,
   "id": "32e96004",
   "metadata": {},
   "outputs": [],
   "source": [
    "4. What is the difference between a function and a function call?\n",
    "\n",
    "\n",
    "In function case passing value of variable  x(a);\n",
    "In function can't change value of actual argument using formal argument\n",
    "No pointer are used\n",
    "\n",
    "\n",
    "In function call passing value of variable  x(&a);\n",
    "In fucntion call we can change value of actual argument using formal argument\n",
    "Pointer are used"
   ]
  },
  {
   "cell_type": "code",
   "execution_count": null,
   "id": "29bf39f4",
   "metadata": {},
   "outputs": [],
   "source": [
    "5. How many global scopes are there in a Python program? How many local scopes?\n",
    "\n",
    "There is only one global python scope per program execution. This scope is remains in existence until the program terminates\n",
    "and all its names are forgotten\n",
    "A variable is only one local scope"
   ]
  },
  {
   "cell_type": "code",
   "execution_count": null,
   "id": "57531c78",
   "metadata": {},
   "outputs": [],
   "source": [
    "6. What happens to variables in a local scope when the function call returns?\n",
    "\n",
    "The local scope ois destroyed and all the variables in it are forgotten"
   ]
  },
  {
   "cell_type": "code",
   "execution_count": null,
   "id": "fada19d1",
   "metadata": {},
   "outputs": [],
   "source": [
    "7. What is the concept of a return value? Is it possible to have a return value in an expression?\n",
    "\n",
    "\n",
    "The return statement in python used to terminate/exit the function and is placed at the end. It can have expressions or can be used without any expressions"
   ]
  },
  {
   "cell_type": "code",
   "execution_count": null,
   "id": "6d3f37f3",
   "metadata": {},
   "outputs": [],
   "source": [
    "8. If a function does not have a return statement, what is the return value of a call to that function?\n",
    "\n",
    "\n",
    "Functions which end without hitting a return statement will return undefined."
   ]
  },
  {
   "cell_type": "code",
   "execution_count": null,
   "id": "abc34064",
   "metadata": {},
   "outputs": [],
   "source": [
    "10. What is the data type of None?\n",
    "\n",
    "The None keyword is used to define a null value, or no value at all\n",
    "None is not the same as 0, None is a Datatype of its own(NoneType)"
   ]
  },
  {
   "cell_type": "code",
   "execution_count": null,
   "id": "d160e386",
   "metadata": {},
   "outputs": [],
   "source": [
    "11. What does the sentence import areallyourpetsnamederic do?"
   ]
  },
  {
   "cell_type": "code",
   "execution_count": null,
   "id": "dd1e7e1f",
   "metadata": {},
   "outputs": [],
   "source": [
    "12. If you had a bacon() feature in a spam module, what would you call it after importing spam?\n",
    "\n",
    "\n",
    "If we have bacon() funtion in spam module then first we need to import the module and then we need to import the funtion too. \n",
    "from spam import bacon This above code is used to import funtions from given module. And then we can use the imported funtion \n",
    "for our own utilities. If we suspect that certain block of code can be a cause of error then we can put that particular set \n",
    "of code into the try block ,..."
   ]
  },
  {
   "cell_type": "code",
   "execution_count": null,
   "id": "b3da3e26",
   "metadata": {},
   "outputs": [],
   "source": [
    "13. What can you do to save a programme from crashing if it encounters an error?\n",
    "\n",
    "By using Exception Handling and there are three types of errors\n",
    "1) Syntax Error\n",
    "2) Runtime Error\n",
    "3) Logical Error"
   ]
  },
  {
   "cell_type": "code",
   "execution_count": null,
   "id": "4a8c2363",
   "metadata": {},
   "outputs": [],
   "source": [
    "14. What is the purpose of the try clause? What is the purpose of the except clause?\n",
    "\n",
    "The idea of the try-except clause is to handle exceptions (errors at runtime). The syntax of the try-except block is: try:\n",
    "the code with the exception (s) to catch. If an exception is raised, it jumps straight into the except block. except: this\n",
    "code is only executed if an exception occured in the try block."
   ]
  },
  {
   "cell_type": "code",
   "execution_count": null,
   "id": "8f6f06b7",
   "metadata": {},
   "outputs": [],
   "source": []
  }
 ],
 "metadata": {
  "kernelspec": {
   "display_name": "Python 3",
   "language": "python",
   "name": "python3"
  },
  "language_info": {
   "codemirror_mode": {
    "name": "ipython",
    "version": 3
   },
   "file_extension": ".py",
   "mimetype": "text/x-python",
   "name": "python",
   "nbconvert_exporter": "python",
   "pygments_lexer": "ipython3",
   "version": "3.10.9"
  }
 },
 "nbformat": 4,
 "nbformat_minor": 5
}
