{
 "cells": [
  {
   "cell_type": "code",
   "execution_count": null,
   "id": "a06e5ed6",
   "metadata": {},
   "outputs": [],
   "source": [
    "1. Create a zoo.py file first. Define the hours() function, which prints the string &#39;Open 9-5 daily&#39;.\n",
    "Then, use the interactive interpreter to import the zoo module and call its hours() function.\n",
    "\n",
    "\n",
    "# zoo.py\n",
    "\n",
    "def hours():\n",
    "    print('Open 9-5 daily')\n",
    "    \n",
    "    \n",
    "# Import the zoo module and call its hours() function\n",
    "import zoo\n",
    "zoo.hours()"
   ]
  },
  {
   "cell_type": "code",
   "execution_count": null,
   "id": "84c23f36",
   "metadata": {},
   "outputs": [],
   "source": [
    "2. In the interactive interpreter, import the zoo module as menagerie and call its hours() function.\n",
    "\n",
    "\n",
    "In the interactive interpreter, you can import the zoo module as menagerie and then call its hours() function as follows:\n",
    "    \n",
    "# Import the zoo module as menagerie and call its hours() function\n",
    "import zoo as menagerie\n",
    "menagerie.hours()"
   ]
  },
  {
   "cell_type": "code",
   "execution_count": null,
   "id": "a1039035",
   "metadata": {},
   "outputs": [],
   "source": [
    "3. Using the interpreter, explicitly import and call the hours() function from zoo.\n",
    "\n",
    "\n",
    "In the interactive interpreter, you can explicitly import the hours() function from the zoo module and then call it without using an alias. Here's how you can do it:\n",
    "\n",
    "# Explicitly import and call the hours() function from zoo\n",
    "from zoo import hours\n",
    "hours()"
   ]
  },
  {
   "cell_type": "code",
   "execution_count": null,
   "id": "1b39f86e",
   "metadata": {},
   "outputs": [],
   "source": [
    "4. Import the hours() function as info and call it.\n",
    "\n",
    "To import the hours() function from the zoo module as info and call it, you can do the following in the interactive interpreter:\n",
    "    \n",
    "# Import the hours() function as info and call it\n",
    "from zoo import hours as info\n",
    "info()"
   ]
  },
  {
   "cell_type": "code",
   "execution_count": null,
   "id": "164e855b",
   "metadata": {},
   "outputs": [],
   "source": [
    "5. Create a plain dictionary with the key-value pairs 'a': 1, 'b': 2, and 'c': 3, and print it out.\n",
    "            \n",
    "            \n",
    "# Create a plain dictionary\n",
    "my_dict = {'a': 1, 'b': 2, 'c': 3}\n",
    "\n",
    "# Print the dictionary\n",
    "print(my_dict)"
   ]
  },
  {
   "cell_type": "code",
   "execution_count": null,
   "id": "3d62c07c",
   "metadata": {},
   "outputs": [],
   "source": [
    "6.Make an OrderedDict called fancy from the same pairs listed in 5 and print it. Did it print in the\n",
    "same order as plain?\n",
    "\n",
    "\n",
    "To create an OrderedDict called fancy from the same key-value pairs listed in question 5 and print it, you can use the \n",
    "collections module. Here's how to do it:\n",
    "\n",
    "from collections import OrderedDict\n",
    "\n",
    "# Create an OrderedDict 'fancy'\n",
    "fancy = OrderedDict([('a', 1), ('b', 2), ('c', 3)])\n",
    "\n",
    "# Print the 'fancy' OrderedDict\n",
    "print(fancy)"
   ]
  },
  {
   "cell_type": "code",
   "execution_count": null,
   "id": "fa25dd97",
   "metadata": {},
   "outputs": [],
   "source": [
    "7. Make a default dictionary called dict_of_lists and pass it the argument list. Make the list\n",
    "dict_of_lists[&#39;a&#39;] and append the value &#39;something for a&#39; to it in one assignment. Print\n",
    "dict_of_lists[&#39;a&#39;].\n",
    "              \n",
    "              \n",
    "from collections import defaultdict\n",
    "\n",
    "# Create a defaultdict 'dict_of_lists' with a default value of an empty list\n",
    "dict_of_lists = defaultdict(list)\n",
    "\n",
    "# Append 'something for a' to the list associated with key 'a' in one assignment\n",
    "dict_of_lists['a'].append('something for a')\n",
    "\n",
    "# Print the value associated with key 'a' in 'dict_of_lists'\n",
    "print(dict_of_lists['a'])"
   ]
  }
 ],
 "metadata": {
  "kernelspec": {
   "display_name": "Python 3",
   "language": "python",
   "name": "python3"
  },
  "language_info": {
   "codemirror_mode": {
    "name": "ipython",
    "version": 3
   },
   "file_extension": ".py",
   "mimetype": "text/x-python",
   "name": "python",
   "nbconvert_exporter": "python",
   "pygments_lexer": "ipython3",
   "version": "3.10.9"
  }
 },
 "nbformat": 4,
 "nbformat_minor": 5
}
