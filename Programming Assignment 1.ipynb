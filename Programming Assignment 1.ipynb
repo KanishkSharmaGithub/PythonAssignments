{
 "cells": [
  {
   "cell_type": "code",
   "execution_count": null,
   "id": "33a49ccb",
   "metadata": {},
   "outputs": [],
   "source": [
    "1. Write a Python program to print \"Hello Python\"\n",
    "\n",
    "\n",
    "print(\"Hello Python\")"
   ]
  },
  {
   "cell_type": "code",
   "execution_count": null,
   "id": "4756b425",
   "metadata": {},
   "outputs": [],
   "source": [
    "2. Write a Python program to do arithmetical operations addition and division.?\n",
    "\n",
    "\n",
    "num1 = float(input(\"Enter the first number: \"))\n",
    "num2 = float(input(\"Enter the second number: \"))\n",
    "\n",
    "# Addition\n",
    "sum_result = num1 + num2\n",
    "print(\"Sum:\", sum_result)\n",
    "\n",
    "# Division\n",
    "if num2 != 0:\n",
    "    division_result = num1 / num2\n",
    "    print(\"Division:\", division_result)\n",
    "else:\n",
    "    print(\"Division by zero is not allowed.\")"
   ]
  },
  {
   "cell_type": "code",
   "execution_count": null,
   "id": "ad660349",
   "metadata": {},
   "outputs": [],
   "source": [
    "3. Write a Python program to find the area of a triangle?\n",
    "\n",
    "\n",
    "base = float(input(\"Enter the base of the triangle: \"))\n",
    "height = float(input(\"Enter the height of the triangle: \"))\n",
    "\n",
    "# Calculate the area of the triangle\n",
    "area = 0.5 * base * height\n",
    "\n",
    "# Print the result\n",
    "print(\"The area of the triangle is:\", area)"
   ]
  },
  {
   "cell_type": "code",
   "execution_count": null,
   "id": "5fe83442",
   "metadata": {},
   "outputs": [],
   "source": [
    "4. Write a Python program to swap two variables?\n",
    "\n",
    "\n",
    "var1 = input(\"Enter the first variable: \")\n",
    "var2 = input(\"Enter the second variable: \")\n",
    "\n",
    "# Display the original values\n",
    "print(\"Original values:\")\n",
    "print(\"var1 =\", var1)\n",
    "print(\"var2 =\", var2)\n",
    "\n",
    "# Swap the variables using a temporary variable\n",
    "temp = var1\n",
    "var1 = var2\n",
    "var2 = temp\n",
    "\n",
    "# Display the swapped values\n",
    "print(\"\\nSwapped values:\")\n",
    "print(\"var1 =\", var1)\n",
    "print(\"var2 =\", var2)"
   ]
  },
  {
   "cell_type": "code",
   "execution_count": null,
   "id": "e2563d51",
   "metadata": {},
   "outputs": [],
   "source": [
    "5. Write a Python program to generate a random number?\n",
    "\n",
    "\n",
    "import random\n",
    "\n",
    "# Generate a random integer between a specified range\n",
    "min_value = int(input(\"Enter the minimum value: \"))\n",
    "max_value = int(input(\"Enter the maximum value: \"))\n",
    "\n",
    "random_number = random.randint(min_value, max_value)\n",
    "\n",
    "print(\"Random number between\", min_value, \"and\", max_value, \"is:\", random_number)"
   ]
  },
  {
   "cell_type": "code",
   "execution_count": null,
   "id": "8b1e1aab",
   "metadata": {},
   "outputs": [],
   "source": []
  }
 ],
 "metadata": {
  "kernelspec": {
   "display_name": "Python 3",
   "language": "python",
   "name": "python3"
  },
  "language_info": {
   "codemirror_mode": {
    "name": "ipython",
    "version": 3
   },
   "file_extension": ".py",
   "mimetype": "text/x-python",
   "name": "python",
   "nbconvert_exporter": "python",
   "pygments_lexer": "ipython3",
   "version": "3.10.9"
  }
 },
 "nbformat": 4,
 "nbformat_minor": 5
}
