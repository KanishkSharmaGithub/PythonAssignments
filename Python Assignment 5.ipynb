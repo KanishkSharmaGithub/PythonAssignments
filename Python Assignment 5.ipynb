{
 "cells": [
  {
   "cell_type": "code",
   "execution_count": null,
   "id": "9eb61f3c",
   "metadata": {},
   "outputs": [],
   "source": [
    "1. What does an empty dictionary code look like?\n",
    "\n",
    "empty_dict = {}"
   ]
  },
  {
   "cell_type": "code",
   "execution_count": null,
   "id": "dc8aa28a",
   "metadata": {},
   "outputs": [],
   "source": [
    "2. What is the value of a dictionary value with the key 'foo' and the value 42?\n",
    "\n",
    "my_dict = {'foo': 42}\n",
    "value = my_dict['foo']\n",
    "print(value)"
   ]
  },
  {
   "cell_type": "code",
   "execution_count": null,
   "id": "630b3ae6",
   "metadata": {},
   "outputs": [],
   "source": [
    "3. What is the most significant distinction between a dictionary and a list?\n",
    "\n",
    "List: A list is an ordered collection of elements, and it stores data in a sequential manner. Each element in a list has\n",
    "    an index starting from 0, which represents its position in the list.\n",
    "\n",
    "Dictionary: A dictionary, on the other hand, is an unordered collection of key-value pairs. Instead of using numeric \n",
    "    indices like lists, dictionaries use unique keys to associate values. Each key in a dictionary maps to a specific value."
   ]
  },
  {
   "cell_type": "code",
   "execution_count": null,
   "id": "6939e3f7",
   "metadata": {},
   "outputs": [],
   "source": [
    "4. What happens if you try to access spam[foo] if spam is {bar: 100}?\n",
    "\n",
    "spam = { 'bar': 100 }\n",
    "value = spam['foo'] "
   ]
  },
  {
   "cell_type": "code",
   "execution_count": null,
   "id": "561b9c72",
   "metadata": {},
   "outputs": [],
   "source": [
    "5. If a dictionary is stored in spam, what is the difference between the expressions 'cat' in spam and\n",
    "'cat' in spam.keys()?\n",
    "\n",
    "'cat' in spam:\n",
    "This expression checks if the string 'cat' is a key in the dictionary spam. It returns True if 'cat' is a key in the \n",
    "dictionary, and False otherwise. This check only looks at the keys of the dictionary and not their values. It's a \n",
    "quick way to determine if a specific key exists in the dictionary."
   ]
  },
  {
   "cell_type": "code",
   "execution_count": null,
   "id": "700ce8be",
   "metadata": {},
   "outputs": [],
   "source": [
    "7. What is a shortcut for the following code?\n",
    "if 'color' not in spam\n",
    "spam['color'] = 'black'\n",
    "\n",
    "spam.setdefault('color', 'black')"
   ]
  },
  {
   "cell_type": "code",
   "execution_count": null,
   "id": "6dbbf6b4",
   "metadata": {},
   "outputs": [],
   "source": [
    "8. How do you &quot;pretty print&quot; dictionary values using which module and function?\n",
    "\n",
    "import json\n",
    "\n",
    "# Your dictionary\n",
    "my_dict = {'name': 'John', 'age': 30, 'city': 'New York'}\n",
    "\n",
    "# Pretty print the dictionary\n",
    "pretty_dict = json.dumps(my_dict, indent=4)\n",
    "\n",
    "print(pretty_dict)\n",
    "In this code:\n",
    "\n",
    "We import the json module.\n",
    "Define your dictionary my_dict.\n",
    "Use json.dumps() to serialize the dictionary as a JSON-formatted string with an indentation of 4 spaces (or any other preferred value) specified by the indent parameter.\n",
    "Print the resulting pretty-printed JSON string.\n",
    "This will display the dictionary with a nicely formatted structure for easier readability.\n",
    "\n"
   ]
  }
 ],
 "metadata": {
  "kernelspec": {
   "display_name": "Python 3",
   "language": "python",
   "name": "python3"
  },
  "language_info": {
   "codemirror_mode": {
    "name": "ipython",
    "version": 3
   },
   "file_extension": ".py",
   "mimetype": "text/x-python",
   "name": "python",
   "nbconvert_exporter": "python",
   "pygments_lexer": "ipython3",
   "version": "3.10.9"
  }
 },
 "nbformat": 4,
 "nbformat_minor": 5
}
