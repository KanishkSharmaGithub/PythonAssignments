{
 "cells": [
  {
   "cell_type": "code",
   "execution_count": null,
   "id": "59123f91",
   "metadata": {},
   "outputs": [],
   "source": [
    "1. What advantages do Excel spreadsheets have over CSV spreadsheets?\n",
    "\n",
    "\n",
    "Rich Formatting and Styling:\n",
    "\n",
    "Excel supports rich formatting options, allowing you to apply various fonts, colors, cell borders, and styles to your data. This is particularly useful for creating visually appealing reports and presentations.\n",
    "Formulas and Functions:\n",
    "\n",
    "Excel provides a wide range of built-in formulas and functions for performing calculations and data manipulation. Users can create complex formulas to analyze and transform data easily.\n",
    "Charts and Graphs:\n",
    "\n",
    "Excel allows you to create interactive charts and graphs directly from your data. It offers a variety of chart types and customization options for data visualization.\n",
    "Data Validation:\n",
    "\n",
    "Excel offers data validation features to ensure data integrity. You can set rules to validate data inputs, such as specifying valid date ranges or numerical limits.\n",
    "Data Sorting and Filtering:\n",
    "\n",
    "Excel provides advanced sorting and filtering options that allow you to organize and analyze data quickly. You can sort data by multiple criteria and apply complex filters.\n",
    "Multiple Worksheets and Workbooks:\n",
    "\n",
    "Excel workbooks can contain multiple worksheets, making it easy to organize and manage data across different sections or categories within a single file.\n",
    "Data Tables and PivotTables:\n",
    "\n",
    "Excel supports data tables and PivotTables for summarizing and aggregating large datasets. These features are powerful tools for data analysis and reporting.\n",
    "Data Entry Forms:\n",
    "\n",
    "Excel allows you to create customized data entry forms, simplifying data input and improving data accuracy.\n",
    "Macros and Automation:\n",
    "\n",
    "Excel supports VBA (Visual Basic for Applications), which enables the creation of custom macros and automation scripts to streamline repetitive tasks."
   ]
  },
  {
   "cell_type": "code",
   "execution_count": null,
   "id": "daa6c8fb",
   "metadata": {},
   "outputs": [],
   "source": [
    "2.What do you pass to csv.reader() and csv.writer() to create reader and writer objects?\n",
    "\n",
    "\n",
    "\n",
    "To create a CSV reader object (csv.reader()):\n",
    "Pass a file object (e.g., opened with open()) in read ('r') mode to csv.reader().\n",
    "You can pass any iterable that yields text lines as long as it behaves like a file object (e.g., a list of strings).\n",
    "\n",
    "To create a CSV writer object (csv.writer()):\n",
    "Pass a file object (e.g., opened with open()) in write ('w') mode to csv.writer().\n",
    "You can also specify additional parameters like the delimiter, quote character, and more when creating the writer object."
   ]
  },
  {
   "cell_type": "code",
   "execution_count": null,
   "id": "87a46397",
   "metadata": {},
   "outputs": [],
   "source": [
    "3. What modes do File objects for reader and writer objects need to be opened in?\n",
    "\n",
    "\n",
    "import csv\n",
    "\n",
    "# Open a CSV file in read ('r') mode and create a reader object\n",
    "with open('data.csv', 'r', newline='') as csv_file:\n",
    "    csv_reader = csv.reader(csv_file)\n",
    "    \n",
    "    \n",
    "import csv\n",
    "\n",
    "# Open a CSV file in write ('w') mode and create a writer object\n",
    "with open('output.csv', 'w', newline='') as csv_file:\n",
    "    csv_writer = csv.writer(csv_file)"
   ]
  },
  {
   "cell_type": "code",
   "execution_count": null,
   "id": "d31de8f4",
   "metadata": {},
   "outputs": [],
   "source": [
    "4. What method takes a list argument and writes it to a CSV file?\n",
    "\n",
    "\n",
    "import csv\n",
    "\n",
    "# Open a CSV file in write ('w') mode and create a writer object\n",
    "with open('output.csv', 'w', newline='') as csv_file:\n",
    "    csv_writer = csv.writer(csv_file)\n",
    "\n",
    "    # Create a list representing a row of data\n",
    "    row_data = ['John Smith', '42', 'Engineer']\n",
    "\n",
    "    # Write the row to the CSV file\n",
    "    csv_writer.writerow(row_data)"
   ]
  },
  {
   "cell_type": "code",
   "execution_count": null,
   "id": "9e910ba9",
   "metadata": {},
   "outputs": [],
   "source": [
    "5. What do the keyword arguments delimiter and line terminator do?\n",
    "\n",
    "\n",
    "Delimiter (delimiter):\n",
    "\n",
    "The delimiter keyword argument specifies the character or string that separates fields (columns) within a CSV row. By default, the comma (',') is used as the delimiter.\n",
    "You can change the delimiter to any character or string you prefer. For example, you can use a tab character ('\\t') for tab-delimited files or a semicolon (';') for semicolon-delimited files.\n",
    "\n",
    "Line Terminator (lineterminator):\n",
    "\n",
    "The lineterminator keyword argument specifies the character or string used to terminate each line (row) in the CSV file. By default, it uses the operating system's line terminator (e.g., '\\n' on Unix-based systems or '\\r\\n' on Windows).\n",
    "You can change the line terminator to a specific character or string. For example, if you want to create CSV files with line terminators compatible with Windows ('\\r\\n') regardless of the platform, you can set lineterminator='\\r\\n'."
   ]
  },
  {
   "cell_type": "code",
   "execution_count": null,
   "id": "047af5c4",
   "metadata": {},
   "outputs": [],
   "source": [
    "6. What function takes a string of JSON data and returns a Python data structure?\n",
    "\n",
    "\n",
    "import json\n",
    "\n",
    "# JSON data as a string\n",
    "json_data = '{\"name\": \"John\", \"age\": 30, \"city\": \"New York\"}'\n",
    "\n",
    "# Parse the JSON string and convert it to a Python data structure (dictionary)\n",
    "python_data = json.loads(json_data)\n",
    "\n",
    "# Now 'python_data' contains a Python dictionary\n",
    "print(python_data)"
   ]
  },
  {
   "cell_type": "code",
   "execution_count": null,
   "id": "fb2ae2b2",
   "metadata": {},
   "outputs": [],
   "source": [
    "7. What function takes a Python data structure and returns a string of JSON data?\n",
    "\n",
    "\n",
    "\n",
    "import json\n",
    "\n",
    "# Python data structure (dictionary)\n",
    "python_data = {\"name\": \"John\", \"age\": 30, \"city\": \"New York\"}\n",
    "\n",
    "# Serialize the Python data structure into a JSON string\n",
    "json_data = json.dumps(python_data)\n",
    "\n",
    "# Now 'json_data' contains a JSON-formatted string\n",
    "print(json_data)"
   ]
  },
  {
   "cell_type": "code",
   "execution_count": null,
   "id": "100bfe61",
   "metadata": {},
   "outputs": [],
   "source": []
  }
 ],
 "metadata": {
  "kernelspec": {
   "display_name": "Python 3",
   "language": "python",
   "name": "python3"
  },
  "language_info": {
   "codemirror_mode": {
    "name": "ipython",
    "version": 3
   },
   "file_extension": ".py",
   "mimetype": "text/x-python",
   "name": "python",
   "nbconvert_exporter": "python",
   "pygments_lexer": "ipython3",
   "version": "3.10.9"
  }
 },
 "nbformat": 4,
 "nbformat_minor": 5
}
