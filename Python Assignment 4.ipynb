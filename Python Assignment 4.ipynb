{
 "cells": [
  {
   "cell_type": "code",
   "execution_count": null,
   "id": "00367ba3",
   "metadata": {},
   "outputs": [],
   "source": [
    "Q1 What exactly is [ ]?\n",
    "\n",
    "Empty list or array, The square brackets often represents empty list or array."
   ]
  },
  {
   "cell_type": "code",
   "execution_count": null,
   "id": "708dd761",
   "metadata": {},
   "outputs": [],
   "source": [
    "2. In a list of values stored in a variable called spam, how would you assign the value #hello as the\n",
    "third value? (Assume [2, 4, 6, 8, 10] are in spam.)\n",
    "\n",
    "spam = [2, 4, 6, 8, 10]\n",
    "spam[2] = 'hello'\n",
    "\n",
    "After running this code the 'spam' list will give third value as 'hello'"
   ]
  },
  {
   "cell_type": "code",
   "execution_count": null,
   "id": "673b5eb8",
   "metadata": {},
   "outputs": [],
   "source": [
    "3. What is the value of spam[int(int(&#39;3&#39; * 2) / 11)]?\n",
    "\n",
    "\n",
    "\n",
    "'3' * 2 will result in the string '33'.\n",
    "int('33') will convert the string '33' to the integer 33.\n",
    "int(33 / 11) will perform integer division, which results in 3.\n",
    "Now, you want to access the value at index 3 in the spam sequence (assuming spam is a sequence like a list or string). \n",
    "However, since you didn't provide the actual value of spam, I can't determine the exact result of spam[int(int('3' * 2) / 11)] \n",
    "without knowing the contents of spam. You would need to replace spam with the actual sequence you're working with to get the final value."
   ]
  },
  {
   "cell_type": "code",
   "execution_count": null,
   "id": "ad8b4d61",
   "metadata": {},
   "outputs": [],
   "source": [
    "4. What is the value of spam[-1]?\n",
    "\n",
    "spam[-1] would be the last element of the list spam. If spam is a list, you would need to know the actual contents of the \n",
    "list to determine the value of spam[-1]."
   ]
  },
  {
   "cell_type": "code",
   "execution_count": null,
   "id": "ceaece39",
   "metadata": {},
   "outputs": [],
   "source": [
    "5. What is the value of spam[:2]?\n",
    "\n",
    "spam[-1] would be the second last element of the list spam. If spam is a list, you would need to know the actual contents of the \n",
    "list to determine the value of spam[-2]."
   ]
  },
  {
   "cell_type": "code",
   "execution_count": null,
   "id": "ef713115",
   "metadata": {},
   "outputs": [],
   "source": [
    "Let pretend bacon has the list [3.14,'cat',11,'cat', True] for the next three questions.\n",
    "6. What is the value of bacon.index('cat')?\n",
    "\n",
    "The value of bacon.index('cat') is 1\n",
    "                                    \n",
    "                                   "
   ]
  },
  {
   "cell_type": "code",
   "execution_count": null,
   "id": "768218cf",
   "metadata": {},
   "outputs": [],
   "source": [
    "7. How does bacon.append(99) change the look of the list value in bacon?\n",
    "\n",
    "The list look like [3.14, 'cat', 11, 'cat', True, 99]"
   ]
  },
  {
   "cell_type": "code",
   "execution_count": null,
   "id": "0cac4862",
   "metadata": {},
   "outputs": [],
   "source": [
    "8. How does bacon.remove('cat') change the look of the list in bacon?\n",
    "\n",
    "The list look like [3.14, 11 'cat', True, 99]"
   ]
  },
  {
   "cell_type": "code",
   "execution_count": null,
   "id": "4faf387b",
   "metadata": {},
   "outputs": [],
   "source": [
    "9. What are the list concatenation and list replication operators?\n",
    "\n",
    "List Concatenation\n",
    "\n",
    "list1 = [1, 2, 3]\n",
    "list2 = [4, 5, 6]\n",
    "result = list1 + list2\n",
    "print(result)  # Output: [1, 2, 3, 4, 5, 6]\n",
    "\n",
    "list replication\n",
    "original_list = [1, 2, 3]\n",
    "replicated_list = original_list * 3\n",
    "print(replicated_list)  # Output: [1, 2, 3, 1, 2, 3, 1, 2, 3]"
   ]
  },
  {
   "cell_type": "code",
   "execution_count": null,
   "id": "b52fc3da",
   "metadata": {},
   "outputs": [],
   "source": [
    "10. What is difference between the list methods append() and insert()?\n",
    "\n",
    "append method is used to add an element in the last of the list\n",
    "\n",
    "insert method is used to add an element at the specific place in the list\n",
    "Both mehtod add elements in the list but having slightly different"
   ]
  },
  {
   "cell_type": "code",
   "execution_count": null,
   "id": "9eabffaf",
   "metadata": {},
   "outputs": [],
   "source": [
    "11. What are the two methods for removing items from a list?\n",
    "\n",
    "list.remove(item)\n",
    "del list[index]"
   ]
  },
  {
   "cell_type": "code",
   "execution_count": null,
   "id": "11d67c0a",
   "metadata": {},
   "outputs": [],
   "source": [
    "12. Describe how list value and string value are identcal?\n",
    "\n",
    "\n",
    "List values and string values are both types of sequences in programming, but they have some key differences. However, there are also similarities between them:\n",
    "\n",
    "Sequential Data: Both lists and strings are sequential data types, which means they are ordered collections of elements. In a string, these elements are characters, while in a list, they can be any data type (e.g., numbers, strings, or other objects).\n",
    "\n",
    "Indexing: You can access individual elements within both strings and lists using indexing. In Python, indexing starts at 0 for the first element. For example, if you have a string \"Hello\" and a list [1, 2, 3, 4], you can access the first element as string[0] or list[0], which would return 'H' and 1, respectively."
   ]
  },
  {
   "cell_type": "code",
   "execution_count": null,
   "id": "4ab234a3",
   "metadata": {},
   "outputs": [],
   "source": [
    "13. What are the diferenc between a list and tuples?\n",
    "\n",
    "\n",
    "In Python, tuples and lists are both used to store collections of data, but they have several key differences:\n",
    "\n",
    "Mutability:\n",
    "\n",
    "Lists are mutable, which means you can change, add, or remove elements after the list is created. You can use methods like append(), insert(), and remove() to modify a list.\n",
    "Tuples are immutable, which means once you create a tuple, you cannot change its contents. You cannot add, remove, or modify elements in a tuple. You can only create a new tuple with different elements."
   ]
  },
  {
   "cell_type": "code",
   "execution_count": null,
   "id": "9b58cee8",
   "metadata": {},
   "outputs": [],
   "source": [
    "14. How do you type a tuple value that only contains the integer 42?\n",
    "\n",
    "my_tuple = (42,)\n",
    "\n",
    "my_tuple = 42,\n",
    "\n",
    "Both having the correct tuple value"
   ]
  },
  {
   "cell_type": "code",
   "execution_count": null,
   "id": "db495c46",
   "metadata": {},
   "outputs": [],
   "source": [
    "15. How do you get a list values tuple form? how do you get a tuple value list form?\n",
    "\n",
    "\n",
    "my_list = [1, 2, 3, 4, 5]\n",
    "my_tuple = tuple(my_list)\n",
    "\n",
    "my_tuple = (1, 2, 3, 4, 5)\n",
    "my_list = list(my_tuple)\n",
    "\n"
   ]
  },
  {
   "cell_type": "code",
   "execution_count": null,
   "id": "2923d36e",
   "metadata": {},
   "outputs": [],
   "source": [
    "16. Variables that &quot;contain&quot; list values are not necessarily lists themselves. Instead, what do they\n",
    "contain?\n",
    "\n",
    "In many programming languages, including Python, variables that \"contain\" list values do not actually contain the entire list\n",
    "directly. Instead, they contain references or pointers to the memory location where the list data is stored. This concept is \n",
    "important to understand because it affects how variables behave when you manipulate lists or assign them to other variables."
   ]
  },
  {
   "cell_type": "code",
   "execution_count": null,
   "id": "43cda5b4",
   "metadata": {},
   "outputs": [],
   "source": [
    "17. How do you distinguish between copy.copy() and copy.deepcopy()?\n",
    "\n",
    "\n",
    "In Python, the copy module provides two methods for copying objects: copy.copy() and copy.deepcopy(). These two methods are\n",
    "    used to create copies of objects, but they behave differently depending on whether the objects being copied are simple \n",
    "    or complex (contain nested objects)"
   ]
  }
 ],
 "metadata": {
  "kernelspec": {
   "display_name": "Python 3",
   "language": "python",
   "name": "python3"
  },
  "language_info": {
   "codemirror_mode": {
    "name": "ipython",
    "version": 3
   },
   "file_extension": ".py",
   "mimetype": "text/x-python",
   "name": "python",
   "nbconvert_exporter": "python",
   "pygments_lexer": "ipython3",
   "version": "3.10.9"
  }
 },
 "nbformat": 4,
 "nbformat_minor": 5
}
