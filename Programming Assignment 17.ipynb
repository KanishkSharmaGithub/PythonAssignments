{
 "cells": [
  {
   "cell_type": "code",
   "execution_count": null,
   "id": "7f579ab6",
   "metadata": {},
   "outputs": [],
   "source": [
    "Create a function that takes three arguments a, b, c and returns the sum of the\n",
    "numbers that are evenly divided by c from the range a, b inclusive.\n",
    "\n",
    "\n",
    "def sum_evenly_divisible(a, b, c):\n",
    "    # Using list comprehension to get numbers in the range a to b that are divisible by c\n",
    "    divisible_numbers = [x for x in range(a, b + 1) if x % c == 0]\n",
    "\n",
    "    # Returning the sum of the numbers that are evenly divisible by c\n",
    "    return sum(divisible_numbers)\n",
    "\n",
    "# Example usage:\n",
    "start_range = 10\n",
    "end_range = 30\n",
    "divisor = 5\n",
    "\n",
    "result = sum_evenly_divisible(start_range, end_range, divisor)\n",
    "print(f\"The sum of numbers from {start_range} to {end_range} divisible by {divisor} is: {result}\")"
   ]
  },
  {
   "cell_type": "code",
   "execution_count": null,
   "id": "738b18cd",
   "metadata": {},
   "outputs": [],
   "source": [
    "Create a function that returns True if a given inequality expression is correct and\n",
    "False otherwise.\n",
    "\n",
    "\n",
    "def check_inequality(expression):\n",
    "    return eval(expression)\n",
    "\n",
    "# Example usage:\n",
    "inequality = \"5 > 3\"  # Replace this with any inequality expression\n",
    "result = check_inequality(inequality)\n",
    "\n",
    "if result:\n",
    "    print(f\"The inequality expression '{inequality}' is True.\")\n",
    "else:\n",
    "    print(f\"The inequality expression '{inequality}' is False.\")"
   ]
  },
  {
   "cell_type": "code",
   "execution_count": null,
   "id": "a81309b9",
   "metadata": {},
   "outputs": [],
   "source": [
    "Create a function that replaces all the vowels in a string with a specified character.\n",
    "\n",
    "\n",
    "def replace_vowels_with_char(input_string, replacement_char):\n",
    "    vowels = \"aeiouAEIOU\"\n",
    "    replaced_string = input_string.translate(str.maketrans(vowels, replacement_char * len(vowels)))\n",
    "    return replaced_string\n",
    "\n",
    "# Example usage:\n",
    "input_string = \"This is a sample string\"\n",
    "replacement_character = \"*\"\n",
    "\n",
    "result = replace_vowels_with_char(input_string, replacement_character)\n",
    "print(f\"Original string: {input_string}\")\n",
    "print(f\"String with vowels replaced: {result}\")"
   ]
  },
  {
   "cell_type": "code",
   "execution_count": null,
   "id": "8d2d5368",
   "metadata": {},
   "outputs": [],
   "source": [
    "Write a function that calculates the factorial of a number recursively.\n",
    "\n",
    "\n",
    "def factorial_recursive(n):\n",
    "    if n == 0 or n == 1:\n",
    "        return 1\n",
    "    else:\n",
    "        return n * factorial_recursive(n - 1)\n",
    "\n",
    "# Example usage:\n",
    "number = 5  # Replace this number with any integer for which you want to find the factorial\n",
    "result = factorial_recursive(number)\n",
    "print(f\"The factorial of {number} is: {result}\")"
   ]
  },
  {
   "cell_type": "code",
   "execution_count": null,
   "id": "3470b898",
   "metadata": {},
   "outputs": [],
   "source": [
    "Hamming distance is the number of characters that differ between two strings.\n",
    "To illustrate:\n",
    "String1: \"abcba\"\n",
    "String2: \"abcbda\"\n",
    "Hamming Distance: 1 - \"b\" vs. \"d\" is the only difference.\n",
    "Create a function that computes the hamming distance between two strings.\n",
    "\n",
    "\n",
    "\n",
    "def hamming_distance(str1, str2):\n",
    "    if len(str1) != len(str2):\n",
    "        raise ValueError(\"Strings are not of equal length\")\n",
    "\n",
    "    distance = sum(c1 != c2 for c1, c2 in zip(str1, str2))\n",
    "    return distance\n",
    "\n",
    "# Example usage:\n",
    "string1 = \"abcbba\"\n",
    "string2 = \"abcbda\"\n",
    "\n",
    "distance = hamming_distance(string1, string2)\n",
    "print(f\"Hamming Distance between '{string1}' and '{string2}' is: {distance}\")"
   ]
  },
  {
   "cell_type": "code",
   "execution_count": null,
   "id": "6cb693f8",
   "metadata": {},
   "outputs": [],
   "source": []
  },
  {
   "cell_type": "code",
   "execution_count": null,
   "id": "a7bc5af8",
   "metadata": {},
   "outputs": [],
   "source": []
  },
  {
   "cell_type": "code",
   "execution_count": null,
   "id": "e7a408a4",
   "metadata": {},
   "outputs": [],
   "source": []
  }
 ],
 "metadata": {
  "kernelspec": {
   "display_name": "Python 3",
   "language": "python",
   "name": "python3"
  },
  "language_info": {
   "codemirror_mode": {
    "name": "ipython",
    "version": 3
   },
   "file_extension": ".py",
   "mimetype": "text/x-python",
   "name": "python",
   "nbconvert_exporter": "python",
   "pygments_lexer": "ipython3",
   "version": "3.10.9"
  }
 },
 "nbformat": 4,
 "nbformat_minor": 5
}
