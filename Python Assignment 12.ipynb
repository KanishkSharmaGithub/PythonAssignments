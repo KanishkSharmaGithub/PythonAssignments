{
 "cells": [
  {
   "cell_type": "code",
   "execution_count": null,
   "id": "068aeba7",
   "metadata": {},
   "outputs": [],
   "source": [
    "1. In what modes should the PdfFileReader() and PdfFileWriter() File objects will be opened?\n",
    "\n",
    "PdfFileReader()\n",
    "from PyPDF2 import PdfFileReader\n",
    "\n",
    "pdf_reader = PdfFileReader(open('your_pdf_file.pdf', 'rb'))\n",
    "\n",
    "PdfFileWriter()\n",
    "\n",
    "from PyPDF2 import PdfFileWriter\n",
    "\n",
    "pdf_writer = PdfFileWriter()\n",
    "\n"
   ]
  },
  {
   "cell_type": "code",
   "execution_count": null,
   "id": "7044cc1e",
   "metadata": {},
   "outputs": [],
   "source": [
    "2. From a PdfFileReader object, how do you get a Page object for page 5?\n",
    "\n",
    "\n",
    "from PyPDF2 import PdfFileReader\n",
    "\n",
    "# Create a PdfFileReader object\n",
    "pdf_reader = PdfFileReader(open('your_pdf_file.pdf', 'rb'))\n",
    "\n",
    "# Get a Page object for page 5 (0-based index)\n",
    "page_number = 4  # Page 5 corresponds to index 4\n",
    "page = pdf_reader.getPage(page_number)\n"
   ]
  },
  {
   "cell_type": "code",
   "execution_count": null,
   "id": "69399df0",
   "metadata": {},
   "outputs": [],
   "source": [
    "3. What PdfFileReader variable stores the number of pages in the PDF document?\n",
    "\n",
    "\n",
    "from PyPDF2 import PdfFileReader\n",
    "\n",
    "# Create a PdfFileReader object\n",
    "pdf_reader = PdfFileReader(open('your_pdf_file.pdf', 'rb'))\n",
    "\n",
    "# Get the number of pages in the PDF document\n",
    "num_pages = pdf_reader.numPages\n",
    "\n",
    "# Print the number of pages\n",
    "print(f'Total number of pages in the PDF: {num_pages}')"
   ]
  },
  {
   "cell_type": "code",
   "execution_count": null,
   "id": "24ff17a8",
   "metadata": {},
   "outputs": [],
   "source": [
    "4. If a PdfFileReader object’s PDF is encrypted with the password swordfish, what must you do\n",
    "before you can obtain Page objects from it?\n",
    "\n",
    "\n",
    "from PyPDF2 import PdfFileReader\n",
    "\n",
    "# Create a PdfFileReader object\n",
    "pdf_reader = PdfFileReader(open('encrypted_pdf_file.pdf', 'rb'))\n",
    "\n",
    "# Provide the correct password to decrypt the PDF\n",
    "password = 'swordfish'\n",
    "pdf_reader.decrypt(password)\n",
    "\n",
    "# Now you can work with Page objects or perform other operations on the PDF"
   ]
  },
  {
   "cell_type": "code",
   "execution_count": null,
   "id": "ff0fb71f",
   "metadata": {},
   "outputs": [],
   "source": [
    "5. What methods do you use to rotate a page?\n",
    "\n",
    "\n",
    "To rotate a page in a PDF using the PyPDF2 library, you can use the rotateClockwise() and rotateCounterClockwise() methods of \n",
    "the PageObject class. These methods allow you to rotate a specific page clockwise (90 degrees) or counterclockwise (90 degrees), respectively."
   ]
  },
  {
   "cell_type": "code",
   "execution_count": null,
   "id": "3c05791f",
   "metadata": {},
   "outputs": [],
   "source": [
    "6. What is the difference between a Run object and a Paragraph object?\n",
    "\n",
    "\n",
    "Run Object:\n",
    "\n",
    "A Run object represents a continuous sequence of characters with the same formatting within a paragraph.\n",
    "It can contain text, special characters, and symbols.\n",
    "Each Run object has its own formatting properties, such as font size, font style (bold, italic, underline, etc.), color, and more.\n",
    "Runs are used to apply specific formatting to portions of text within a paragraph. For example, you can have a single paragraph with multiple Runs to style different words or phrases differently.\n",
    "Paragraph Object:\n",
    "\n",
    "A Paragraph object represents a block of text that is separated by line breaks or paragraph breaks.\n",
    "It can contain one or more Run objects.\n",
    "Paragraphs are used to structure and format larger portions of text within a document.\n",
    "You can set paragraph-level formatting properties, such as alignment, spacing, indentation, and bullet points, for the entire paragraph."
   ]
  },
  {
   "cell_type": "code",
   "execution_count": null,
   "id": "8ccc692a",
   "metadata": {},
   "outputs": [],
   "source": [
    "7. How do you obtain a list of Paragraph objects for a Document object that’s stored in a variable\n",
    "named doc?\n",
    "\n",
    "\n",
    "from docx import Document\n",
    "\n",
    "# Load a Word document\n",
    "doc = Document('your_document.docx')\n",
    "\n",
    "# Obtain a list of Paragraph objects\n",
    "paragraphs = doc.paragraphs\n",
    "\n",
    "# Now 'paragraphs' is a list containing Paragraph objects"
   ]
  },
  {
   "cell_type": "code",
   "execution_count": null,
   "id": "68a9c0d1",
   "metadata": {},
   "outputs": [],
   "source": [
    "8. What type of object has bold, underline, italic, strike, and outline variables?\n",
    "\n",
    "\n",
    "from docx import Document\n",
    "\n",
    "# Create a new Document\n",
    "doc = Document()\n",
    "\n",
    "# Add a paragraph with text\n",
    "paragraph = doc.add_paragraph(\"This is a sample text with formatting\")\n",
    "\n",
    "# Access the Run object within the paragraph\n",
    "run = paragraph.runs[0]  # Assuming you have one Run in the paragraph\n",
    "\n",
    "# Apply formatting properties\n",
    "run.bold = True\n",
    "run.underline = True\n",
    "run.italic = True\n",
    "run.strike = True\n",
    "run.outline = True\n",
    "\n",
    "# Save the document\n",
    "doc.save('formatted_document.docx')"
   ]
  },
  {
   "cell_type": "code",
   "execution_count": null,
   "id": "57311ba0",
   "metadata": {},
   "outputs": [],
   "source": [
    "10. How do you create a Document object for a new Word document?\n",
    "\n",
    "\n",
    "To create a Document object for a new Word document using the python-docx library in Python, you can follow these steps:\n",
    "\n",
    "Import the Document class from the docx module.\n",
    "Create an instance of the Document class to represent the new document."
   ]
  },
  {
   "cell_type": "code",
   "execution_count": null,
   "id": "ef48a9fb",
   "metadata": {},
   "outputs": [],
   "source": [
    "11. How do you add a paragraph with the text &#39;Hello, there!&#39; to a Document object stored in a\n",
    "variable named doc?\n",
    "\n",
    "\n",
    "To add a paragraph with the text 'Hello, there!' to a Document object stored in a variable named doc using the python-docx library, you can follow these steps:\n",
    "\n",
    "Import the Document class from the docx module.\n",
    "Create a Document object or load an existing document.\n",
    "Use the add_paragraph() method to add a new paragraph with the desired text."
   ]
  },
  {
   "cell_type": "code",
   "execution_count": null,
   "id": "ebe6ec6e",
   "metadata": {},
   "outputs": [],
   "source": [
    "12. What integers represent the levels of headings available in Word documents?\n",
    "\n",
    "\n",
    "Heading Level 1: Represented by the integer 1. This is typically the highest-level heading and is often used for main sections or chapters.\n",
    "\n",
    "Heading Level 2: Represented by the integer 2. This is one level below Heading Level 1 and is used for subsections within the main sections or chapters.\n",
    "\n",
    "Heading Level 3: Represented by the integer 3. This is one level below Heading Level 2 and is used for sub-subsections within subsections, and so on."
   ]
  }
 ],
 "metadata": {
  "kernelspec": {
   "display_name": "Python 3",
   "language": "python",
   "name": "python3"
  },
  "language_info": {
   "codemirror_mode": {
    "name": "ipython",
    "version": 3
   },
   "file_extension": ".py",
   "mimetype": "text/x-python",
   "name": "python",
   "nbconvert_exporter": "python",
   "pygments_lexer": "ipython3",
   "version": "3.10.9"
  }
 },
 "nbformat": 4,
 "nbformat_minor": 5
}
