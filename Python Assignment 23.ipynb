{
 "cells": [
  {
   "cell_type": "code",
   "execution_count": null,
   "id": "7c4e0951",
   "metadata": {},
   "outputs": [],
   "source": [
    "1. What is the result of the code, and why?\n",
    "\n",
    ">>>def func(a, b=6, c=8):\n",
    "print(a, b, c)\n",
    ">>>func(1,2)\n",
    "\n",
    "\n",
    "When you call the function with these arguments, here's what happens:\n",
    "\n",
    "The value 1 is assigned to parameter a because it is the first argument.\n",
    "\n",
    "The value 2 is assigned to parameter b because it is the second argument. This overrides the default value of 6 for b.\n",
    "\n",
    "Since you did not provide a third argument when calling the function, parameter c retains its default value of 8.\n",
    "\n",
    "As a result, the print(a, b, c) statement within the func function will output the values of a, b, and c as follows:\n",
    "\n",
    "1,2,8"
   ]
  },
  {
   "cell_type": "code",
   "execution_count": null,
   "id": "3c6bbed9",
   "metadata": {},
   "outputs": [],
   "source": [
    "2. What is the result of the code, and why?\n",
    "\n",
    ">>>def func(a,  b, c=5):\n",
    "print(a, b, c)\n",
    ">>>func(1, c=3, b=2)\n",
    "\n",
    "\n",
    "When you call the function with these arguments, here's what happens:\n",
    "\n",
    "The value 1 is assigned to parameter a because it is the first argument.\n",
    "\n",
    "The keyword argument c=3 overrides the default value of c, so c is assigned the value 3.\n",
    "\n",
    "Similarly, the keyword argument b=2 overrides the position-based argument for b, so b is assigned the value 2.\n",
    "\n",
    "As a result, the print(a, b, c) statement within the func function will output the values of a, b, and c as follows:\n",
    "    \n",
    "1,2,3"
   ]
  },
  {
   "cell_type": "code",
   "execution_count": null,
   "id": "bb93c23b",
   "metadata": {},
   "outputs": [],
   "source": [
    "what is the result of this code and explain\n",
    ">>>def func(a, *pargs):\n",
    "print(a, pargs)\n",
    "func(1,2,3)\n",
    "\n",
    "\n",
    "Here's what happens when you call the function:\n",
    "\n",
    "The value 1 is assigned to parameter a because it is the first positional argument.\n",
    "\n",
    "The remaining positional arguments, 2 and 3, are collected into the pargs parameter as a tuple. So, pargs will be (2, 3).\n",
    "\n",
    "The print(a, pargs) statement within the func function will output the values of a and pargs. In this case, a is 1, and pargs is the tuple (2, 3).\n",
    "\n",
    "1 (2, 3)"
   ]
  },
  {
   "cell_type": "code",
   "execution_count": null,
   "id": "0d67c388",
   "metadata": {},
   "outputs": [],
   "source": [
    "what is the result of this code and explain\n",
    ">>>def func(a, **pargs):\n",
    "print(a, pargs)\n",
    "func(a=1 c=3, b=2)\n",
    "\n",
    "\n",
    "\n",
    "def func(a, **pargs):\n",
    "    print(a, pargs)\n",
    "\n",
    "func(a=1, c=3, b=2)\n",
    "Here's what happens when you call the function:\n",
    "\n",
    "The value 1 is assigned to parameter a because you provided the a keyword argument.\n",
    "\n",
    "The keyword arguments c=3 and b=2 are collected into the pargs parameter as a dictionary. So, pargs will be {'c': 3, 'b': 2}.\n",
    "\n",
    "The print(a, pargs) statement within the func function will output the values of a and pargs. In this case, a is 1, and pargs is the dictionary {'c': 3, 'b': 2}.\n",
    "\n",
    "1 {'c': 3, 'b': 2}\n",
    "\n"
   ]
  },
  {
   "cell_type": "code",
   "execution_count": null,
   "id": "93c0c766",
   "metadata": {},
   "outputs": [],
   "source": [
    "what gets printed by this and explain?\n",
    "\n",
    ">>>def func(a, b, c=8, d=5):\n",
    "print(a, b, c, d)\n",
    ">>>func(1, *(5, 6))\n",
    "\n",
    "\n",
    "Here's what happens when you call the function:\n",
    "\n",
    "The value 1 is assigned to parameter a because it is the first positional argument.\n",
    "\n",
    "The values 5 and 6 are assigned to parameters b and c, respectively, because you unpacked the tuple (5, 6) and passed its elements as separate positional arguments.\n",
    "\n",
    "Since you didn't provide a value for d in the function call, it retains its default value of 5.\n",
    "\n",
    "As a result, the code will produce the following output:\n",
    "    1 5 6 5"
   ]
  },
  {
   "cell_type": "code",
   "execution_count": null,
   "id": "02a31117",
   "metadata": {},
   "outputs": [],
   "source": []
  }
 ],
 "metadata": {
  "kernelspec": {
   "display_name": "Python 3",
   "language": "python",
   "name": "python3"
  },
  "language_info": {
   "codemirror_mode": {
    "name": "ipython",
    "version": 3
   },
   "file_extension": ".py",
   "mimetype": "text/x-python",
   "name": "python",
   "nbconvert_exporter": "python",
   "pygments_lexer": "ipython3",
   "version": "3.10.9"
  }
 },
 "nbformat": 4,
 "nbformat_minor": 5
}
