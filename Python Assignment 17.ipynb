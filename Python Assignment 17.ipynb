{
 "cells": [
  {
   "cell_type": "code",
   "execution_count": null,
   "id": "3446ffc4",
   "metadata": {},
   "outputs": [],
   "source": [
    "1. Assign the value 7 to the variable guess_me. Then, write the conditional tests (if, else, and elif) to\n",
    "print the string &#39;too low&#39; if guess_me is less than 7, &#39;too high&#39; if greater than 7, and &#39;just right&#39; if equal\n",
    "to 7.\n",
    "\n",
    "\n",
    "# Assign the value 7 to the variable guess_me\n",
    "guess_me = 7\n",
    "\n",
    "# Check the value of guess_me and print the appropriate string\n",
    "if guess_me < 7:\n",
    "    print('too low')\n",
    "elif guess_me > 7:\n",
    "    print('too high')\n",
    "else:\n",
    "    print('just right')"
   ]
  },
  {
   "cell_type": "code",
   "execution_count": null,
   "id": "e5fbaac4",
   "metadata": {},
   "outputs": [],
   "source": [
    "2. Assign the value 7 to the variable guess_me and the value 1 to the variable start. Write a while\n",
    "loop that compares start with guess_me. Print too low if start is less than guess me. If start equals\n",
    "guess_me, print &#39;found it!&#39; and exit the loop. If start is greater than guess_me, print &#39;oops&#39; and exit\n",
    "the loop. Increment start at the end of the loop.\n",
    "\n",
    "\n",
    "# Assign the values to guess_me and start\n",
    "guess_me = 7\n",
    "start = 1\n",
    "\n",
    "# Create a while loop to compare start with guess_me\n",
    "while start <= guess_me:\n",
    "    if start < guess_me:\n",
    "        print('too low')\n",
    "    elif start == guess_me:\n",
    "        print('found it!')\n",
    "        break  # Exit the loop when the guess is found\n",
    "    else:\n",
    "        print('oops')\n",
    "        break  # Exit the loop if start becomes greater than guess_me\n",
    "    start += 1  # Increment start at the end of each loop iteration"
   ]
  },
  {
   "cell_type": "code",
   "execution_count": null,
   "id": "e0c62b0c",
   "metadata": {},
   "outputs": [],
   "source": [
    "3. Print the following values of the list [3, 2, 1, 0] using a for loop.\n",
    "\n",
    "\n",
    "# Define the list\n",
    "my_list = [3, 2, 1, 0]\n",
    "\n",
    "# Use a for loop to print the values\n",
    "for value in my_list:\n",
    "    print(value)"
   ]
  },
  {
   "cell_type": "code",
   "execution_count": null,
   "id": "7c9477c9",
   "metadata": {},
   "outputs": [],
   "source": [
    "4. Use a list comprehension to make a list of the even numbers in range(10)\n",
    "\n",
    "\n",
    "# Create a list of even numbers in range(10) using a list comprehension\n",
    "even_numbers = [num for num in range(10) if num % 2 == 0]\n",
    "\n",
    "# Print the list of even numbers\n",
    "print(even_numbers)"
   ]
  },
  {
   "cell_type": "code",
   "execution_count": null,
   "id": "9b39e995",
   "metadata": {},
   "outputs": [],
   "source": [
    "5. Use a dictionary comprehension to create the dictionary squares. Use range(10) to return the\n",
    "keys, and use the square of each key as its value.\n",
    "\n",
    "\n",
    "# Create the dictionary 'squares' using a dictionary comprehension\n",
    "squares = {num: num ** 2 for num in range(10)}\n",
    "\n",
    "# Print the 'squares' dictionary\n",
    "print(squares)"
   ]
  },
  {
   "cell_type": "code",
   "execution_count": null,
   "id": "3f5e7650",
   "metadata": {},
   "outputs": [],
   "source": [
    "6. Construct the set odd from the odd numbers in the range using a set comprehension (10).\n",
    "\n",
    "\n",
    "# Create the set 'odd' using a set comprehension\n",
    "odd = {num for num in range(10) if num % 2 != 0}\n",
    "\n",
    "# Print the 'odd' set\n",
    "print(odd)"
   ]
  },
  {
   "cell_type": "code",
   "execution_count": null,
   "id": "952ba11d",
   "metadata": {},
   "outputs": [],
   "source": [
    "8. Define a function called good that returns the list [\"Harry\", \"Ron\", \"Hermione\"].\n",
    "\n",
    "\n",
    "def good():\n",
    "    return ['Harry', 'Ron', 'Hermione']\n",
    "\n",
    "# Call the function and store the result in a variable\n",
    "characters = good()\n",
    "\n",
    "# Print the result\n",
    "print(characters)"
   ]
  },
  {
   "cell_type": "code",
   "execution_count": null,
   "id": "f1b423ec",
   "metadata": {},
   "outputs": [],
   "source": [
    "9. Define a generator function called get_odds that returns the odd numbers from range(10). Use a\n",
    "for loop to find and print the third value returned.\n",
    "\n",
    "\n",
    "# Define the generator function 'get_odds'\n",
    "def get_odds():\n",
    "    for num in range(10):\n",
    "        if num % 2 != 0:\n",
    "            yield num\n",
    "\n",
    "# Initialize a counter to keep track of the values\n",
    "count = 0\n",
    "\n",
    "# Use a for loop to find and print the third value returned\n",
    "for odd_number in get_odds():\n",
    "    count += 1\n",
    "    if count == 3:\n",
    "        print(\"The third odd number is:\", odd_number)\n",
    "        break"
   ]
  },
  {
   "cell_type": "code",
   "execution_count": null,
   "id": "4287cfd0",
   "metadata": {},
   "outputs": [],
   "source": [
    "10. Define an exception called OopsException. Raise this exception to see what happens. Then write\n",
    "the code to catch this exception and print &#39;Caught an oops&#39;.\n",
    "\n",
    "\n",
    "# Define a custom exception called 'OopsException'\n",
    "class OopsException(Exception):\n",
    "    pass\n",
    "\n",
    "# Raise the 'OopsException' to see what happens\n",
    "try:\n",
    "    raise OopsException(\"An error occurred!\")\n",
    "except OopsException as e:\n",
    "    print(\"Caught an oops:\", e)"
   ]
  },
  {
   "cell_type": "code",
   "execution_count": null,
   "id": "53bdf397",
   "metadata": {},
   "outputs": [],
   "source": [
    "11. Use zip() to make a dictionary called movies that pairs these lists: titles = [&#39;Creature of Habit&#39;,\n",
    "&#39;Crewel Fate&#39;] and plots = [&#39;A nun turns into a monster&#39;, &#39;A haunted yarn shop&#39;].\n",
    "                                                                                   \n",
    "                                                                                   \n",
    "# Define the lists 'titles' and 'plots'\n",
    "titles = ['Creature of Habit', 'Crewel Fate']\n",
    "plots = ['A nun turns into a monster', 'A haunted yarn shop']\n",
    "\n",
    "# Use 'zip()' to create the 'movies' dictionary\n",
    "movies = dict(zip(titles, plots))\n",
    "\n",
    "# Print the 'movies' dictionary\n",
    "print(movies)"
   ]
  }
 ],
 "metadata": {
  "kernelspec": {
   "display_name": "Python 3",
   "language": "python",
   "name": "python3"
  },
  "language_info": {
   "codemirror_mode": {
    "name": "ipython",
    "version": 3
   },
   "file_extension": ".py",
   "mimetype": "text/x-python",
   "name": "python",
   "nbconvert_exporter": "python",
   "pygments_lexer": "ipython3",
   "version": "3.10.9"
  }
 },
 "nbformat": 4,
 "nbformat_minor": 5
}
