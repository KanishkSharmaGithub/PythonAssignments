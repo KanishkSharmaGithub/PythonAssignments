{
 "cells": [
  {
   "cell_type": "code",
   "execution_count": null,
   "id": "b0a45303",
   "metadata": {},
   "outputs": [],
   "source": [
    "1. Create a list called years_list, starting with the year of your birth, and each year thereafter until\n",
    "the year of your fifth birthday. For example, if you were born in 1980. the list would be years_list =\n",
    "[1980, 1981, 1982, 1983, 1984, 1985].\n",
    "\n",
    "\n",
    "# Define your birth year\n",
    "birth_year = 2000\n",
    "\n",
    "# Create the years_list using a list comprehension\n",
    "years_list = [birth_year + i for i in range(6)]\n",
    "\n",
    "# Print the years_list\n",
    "print(years_list)"
   ]
  },
  {
   "cell_type": "code",
   "execution_count": null,
   "id": "d8a21a39",
   "metadata": {},
   "outputs": [],
   "source": [
    "2. In which year in years_list was your third birthday? Remember, you were 0 years of age for your\n",
    "first year.\n",
    "\n",
    "\n",
    "# Define your birth year\n",
    "birth_year = 2000\n",
    "\n",
    "# Create the years_list using a list comprehension\n",
    "years_list = [birth_year + i for i in range(6)]\n",
    "\n",
    "# Find the year of your third birthday (index 3)\n",
    "year_of_third_birthday = years_list[3]\n",
    "\n",
    "# Print the year of your third birthday\n",
    "print(year_of_third_birthday)"
   ]
  },
  {
   "cell_type": "code",
   "execution_count": null,
   "id": "fc2c0fd9",
   "metadata": {},
   "outputs": [],
   "source": [
    "3.In the years list, which year were you the oldest?\n",
    "\n",
    "\n",
    "# Define your birth year\n",
    "birth_year = 2000\n",
    "\n",
    "# Create the years_list using a list comprehension\n",
    "years_list = [birth_year + i for i in range(6)]\n",
    "\n",
    "# Find the year when you were the oldest (last element of the list)\n",
    "oldest_year = years_list[-1]\n",
    "\n",
    "# Print the year when you were the oldest\n",
    "print(oldest_year)"
   ]
  },
  {
   "cell_type": "code",
   "execution_count": null,
   "id": "967c4d97",
   "metadata": {},
   "outputs": [],
   "source": [
    "5. Capitalize the element in things that refers to a person and then print the list. Did it change the\n",
    "element in the list?\n",
    "\n",
    "\n",
    "# Define the list 'things'\n",
    "things = ['car', 'house', 'person', 'book', 'computer']\n",
    "\n",
    "# Find the index of the element 'person' in the list\n",
    "index_of_person = things.index('person')\n",
    "\n",
    "# Capitalize the element at that index and create a new list\n",
    "modified_things = [thing.capitalize() if i == index_of_person else thing for i, thing in enumerate(things)]\n",
    "\n",
    "# Print the modified list\n",
    "print(modified_things)"
   ]
  },
  {
   "cell_type": "code",
   "execution_count": null,
   "id": "1fc7c2e5",
   "metadata": {},
   "outputs": [],
   "source": [
    "6. Make a surprise list with the elements \"Groucho\", \"Chico\", and \"Harpo\"?\n",
    "\n",
    "\n",
    "\n",
    "To create a surprise list with the elements \"Groucho,\" \"Chico,\" and \"Harpo,\" you can simply define a Python list as follows:\n",
    "    \n",
    "surprise_list = [\"Groucho\", \"Chico\", \"Harpo\"]"
   ]
  },
  {
   "cell_type": "code",
   "execution_count": null,
   "id": "9df2443d",
   "metadata": {},
   "outputs": [],
   "source": [
    "7. Lowercase the last element of the surprise list, reverse it, and then capitalize it.\n",
    "\n",
    "\n",
    "# Define the surprise list\n",
    "surprise_list = [\"Groucho\", \"Chico\", \"Harpo\"]\n",
    "\n",
    "# Lowercase the last element, reverse it, and capitalize it\n",
    "last_element = surprise_list[-1].lower()  # Lowercase the last element\n",
    "reversed_last_element = last_element[::-1]  # Reverse the lowercase element\n",
    "capitalized_reversed_last_element = reversed_last_element.capitalize()  # Capitalize the reversed element\n",
    "\n",
    "# Replace the last element in the original list\n",
    "surprise_list[-1] = capitalized_reversed_last_element\n",
    "\n",
    "# Print the modified surprise list\n",
    "print(surprise_list)\n",
    "\n",
    "It accesses the last element of the surprise_list using negative indexing (surprise_list[-1]) and converts it to lowercase using the lower() method.\n",
    "\n",
    "It reverses the lowercase last element using slicing with a step of -1 (last_element[::-1]).\n",
    "\n",
    "It capitalizes the reversed element using the capitalize() method, making the first letter uppercase and the rest of the letters lowercase."
   ]
  },
  {
   "cell_type": "code",
   "execution_count": null,
   "id": "5dd4508a",
   "metadata": {},
   "outputs": [],
   "source": [
    "8. Make an English-to-French dictionary called e2f and print it. Here are your starter words: dog is\n",
    "chien, cat is chat, and walrus is morse.\n",
    "\n",
    "\n",
    "# Create the English-to-French dictionary\n",
    "e2f = {\n",
    "    \"dog\": \"chien\",\n",
    "    \"cat\": \"chat\",\n",
    "    \"walrus\": \"morse\"\n",
    "}\n",
    "\n",
    "# Print the dictionary\n",
    "print(e2f)"
   ]
  },
  {
   "cell_type": "code",
   "execution_count": null,
   "id": "372c7f7d",
   "metadata": {},
   "outputs": [],
   "source": [
    "9. Write the French word for walrus in your three-word dictionary e2f.\n",
    "\n",
    "\n",
    "# Create the English-to-French dictionary\n",
    "e2f = {\n",
    "    \"dog\": \"chien\",\n",
    "    \"cat\": \"chat\",\n",
    "    \"walrus\": \"morse\"\n",
    "}\n",
    "\n",
    "# Retrieve the French word for \"walrus\"\n",
    "french_walrus = e2f[\"walrus\"]\n",
    "\n",
    "# Print the French word for \"walrus\"\n",
    "print(french_walrus)"
   ]
  },
  {
   "cell_type": "code",
   "execution_count": null,
   "id": "3f4bf065",
   "metadata": {},
   "outputs": [],
   "source": [
    "10. Make a French-to-English dictionary called f2e from e2f. Use the items method.\n",
    "\n",
    "\n",
    "# Create the English-to-French dictionary (e2f)\n",
    "e2f = {\n",
    "    \"dog\": \"chien\",\n",
    "    \"cat\": \"chat\",\n",
    "    \"walrus\": \"morse\"\n",
    "}\n",
    "\n",
    "# Create the French-to-English dictionary (f2e) using items()\n",
    "f2e = {value: key for key, value in e2f.items()}\n",
    "\n",
    "# Print the French-to-English dictionary (f2e)\n",
    "print(f2e)"
   ]
  },
  {
   "cell_type": "code",
   "execution_count": null,
   "id": "16132a34",
   "metadata": {},
   "outputs": [],
   "source": [
    "11. Print the English version of the French word chien using f2e.\n",
    "\n",
    "\n",
    "# Create the French-to-English dictionary (f2e)\n",
    "f2e = {\n",
    "    \"chien\": \"dog\",\n",
    "    \"chat\": \"cat\",\n",
    "    \"morse\": \"walrus\"\n",
    "}\n",
    "\n",
    "# Print the English version of \"chien\" using f2e\n",
    "english_chien = f2e[\"chien\"]\n",
    "print(english_chien)"
   ]
  },
  {
   "cell_type": "code",
   "execution_count": null,
   "id": "f46fed6f",
   "metadata": {},
   "outputs": [],
   "source": [
    "12. Make and print a set of English words from the keys in e2f.\n",
    "\n",
    "\n",
    "# Create the English-to-French dictionary (e2f)\n",
    "e2f = {\n",
    "    \"dog\": \"chien\",\n",
    "    \"cat\": \"chat\",\n",
    "    \"walrus\": \"morse\"\n",
    "}\n",
    "\n",
    "# Create a set of English words from the keys in e2f\n",
    "english_words_set = set(e2f.keys())\n",
    "\n",
    "# Print the set of English words\n",
    "print(english_words_set)"
   ]
  },
  {
   "cell_type": "code",
   "execution_count": null,
   "id": "b8ecfc9e",
   "metadata": {},
   "outputs": [],
   "source": [
    "14. Print the top-level keys of life.\n",
    "\n",
    "\n",
    "# Define the nested dictionary 'life'\n",
    "life = {\n",
    "    'animals': {\n",
    "        'cats': ['Henri', 'Grumpy', 'Lucy'],\n",
    "        'dogs': ['Fido', 'Rex', 'Lassie']\n",
    "    },\n",
    "    'plants': {},\n",
    "    'other': {}\n",
    "}\n",
    "\n",
    "# Print the top-level keys of 'life'\n",
    "top_level_keys = life.keys()\n",
    "print(top_level_keys)"
   ]
  },
  {
   "cell_type": "code",
   "execution_count": null,
   "id": "9602d0f9",
   "metadata": {},
   "outputs": [],
   "source": [
    "15. Print the keys for life[&#39;animals&#39;].\n",
    "                            \n",
    "                            \n",
    "\n",
    "# Define the nested dictionary 'life'\n",
    "life = {\n",
    "    'animals': {\n",
    "        'cats': ['Henri', 'Grumpy', 'Lucy'],\n",
    "        'dogs': ['Fido', 'Rex', 'Lassie']\n",
    "    },\n",
    "    'plants': {},\n",
    "    'other': {}\n",
    "}\n",
    "\n",
    "# Print the keys for life['animals']\n",
    "animal_keys = life['animals'].keys()\n",
    "print(animal_keys)\n",
    "\n"
   ]
  },
  {
   "cell_type": "code",
   "execution_count": null,
   "id": "fa68405d",
   "metadata": {},
   "outputs": [],
   "source": []
  },
  {
   "cell_type": "code",
   "execution_count": null,
   "id": "7be745d7",
   "metadata": {},
   "outputs": [],
   "source": []
  }
 ],
 "metadata": {
  "kernelspec": {
   "display_name": "Python 3",
   "language": "python",
   "name": "python3"
  },
  "language_info": {
   "codemirror_mode": {
    "name": "ipython",
    "version": 3
   },
   "file_extension": ".py",
   "mimetype": "text/x-python",
   "name": "python",
   "nbconvert_exporter": "python",
   "pygments_lexer": "ipython3",
   "version": "3.10.9"
  }
 },
 "nbformat": 4,
 "nbformat_minor": 5
}
