{
 "cells": [
  {
   "cell_type": "code",
   "execution_count": null,
   "id": "5d8b8ca0",
   "metadata": {},
   "outputs": [],
   "source": [
    "1. To what does a relative path refer?\n",
    "\n",
    "A relative path refers to the location of a file or directory relative to a specific starting point or reference point. \n",
    "Instead of specifying the full or absolute path from the root directory of a file system, a relative path indicates how to\n",
    "navigate from one location to another based on the current working directory or another reference point."
   ]
  },
  {
   "cell_type": "code",
   "execution_count": null,
   "id": "ad5e2415",
   "metadata": {},
   "outputs": [],
   "source": [
    "2. What does an absolute path start with your operating system?\n",
    "\n",
    "\n",
    "In most operating systems, an absolute path starts with the root directory of the file system. In Unix-like systems\n",
    "(including Linux and macOS), the root directory is represented by a forward slash (\"/\"). In Windows operating systems,\n",
    "the root directory of the system drive is typically represented by a drive letter followed by a colon (e.g., \"C:\") and \n",
    "then a backslash (\"\").\n",
    "\n",
    "/home/user/documents/file.txt is an absolute path starting from the root directory.\n",
    "Windows:\n",
    "\n",
    "C:\\Users\\User\\Documents\\file.txt is an absolute path starting from the root directory of the C: drive.\n",
    "Absolute paths provide the complete and unambiguous location of a file or directory in the file system, regardless of \n",
    "the current working directory."
   ]
  },
  {
   "cell_type": "code",
   "execution_count": null,
   "id": "11e542b0",
   "metadata": {},
   "outputs": [],
   "source": [
    "3. What do the functions os.getcwd() and os.chdir() do?\n",
    "\n",
    "\n",
    "In Python, the os module provides functions for working with the operating system, including file and directory manipulation. \n",
    "os.getcwd() and os.chdir() are two such functions:\n",
    "    \n",
    "\n",
    "In Python, the os module provides functions for working with the operating system, including file and directory manipulation. \n",
    "os.getcwd() and os.chdir() are two such functions:\n",
    "\n",
    "os.getcwd(): This function stands for \"get current working directory.\" It returns a string representing the current working\n",
    "directory of the Python script or program. The current working directory is the directory from which the Python script is currently executing. Here's how you can use it:\n",
    "\n",
    "os.chdir(path): This function stands for \"change directory.\" It is used to change the current working directory to the specified path. \n",
    "The path argument should be a valid directory path. Here's how you can use it:"
   ]
  },
  {
   "cell_type": "code",
   "execution_count": null,
   "id": "0547acf8",
   "metadata": {},
   "outputs": [],
   "source": [
    "4. What are the . and .. folders?\n",
    "\n",
    "\n",
    "In most file systems, including those used by various operating systems, the \".\" (dot) and \"..\" (dot-dot) folders are special entries that provide a way to navigate the directory structure.\n",
    "\n",
    "\".\" (dot): The dot represents the current directory. When used in a file path, it refers to the directory you are currently in. For example, if you're in the directory \"/home/user/documents\" \n",
    "    and you use the path \"./file.txt,\" it refers to a file named \"file.txt\" in the current directory (\"/home/user/documents\").\n",
    "    \n",
    "\"..\"(dot-dot): The dot-dot represents the parent directory. When used in a file path, it allows you to navigate up one level in the directory structure. For example, if you're in the directory\n",
    "    \"/home/user/documents\" and you use the path \"../images/image.jpg,\" it refers to a file named \"image.jpg\" in a directory called \"images\" that is one level up from the current directory (\"/home/user/documents\")."
   ]
  },
  {
   "cell_type": "code",
   "execution_count": null,
   "id": "6355b11f",
   "metadata": {},
   "outputs": [],
   "source": [
    "5. In C:\\bacon\\eggs\\spam.txt, which part is the dir name, and which part is the base name?\n",
    "    \n",
    "\n",
    "In the path \"C:\\bacon\\eggs\\spam.txt,\" the following parts can be identified:\n",
    "\n",
    "Directory Name: The directory name is the portion of the path that represents the directory where the file \"spam.txt\" is located. In this case, the directory name is\n",
    "    \"C:\\bacon\\eggs.\" It includes everything in the path except for the last part, which is the file name itself.\n",
    "\n",
    "Base Name: The base name is the actual name of the file, without the directory path. In this case, the base name is \"spam.txt.\"\n",
    "\n",
    "So, to summarize:\n",
    "\n",
    "Directory Name: \"C:\\bacon\\eggs\"\n",
    "Base Name: \"spam.txt\"\n",
    "\n",
    "\n",
    "\n",
    "\n"
   ]
  },
  {
   "cell_type": "code",
   "execution_count": null,
   "id": "ed782e57",
   "metadata": {},
   "outputs": [],
   "source": [
    "6. What are the three “mode” arguments that can be passed to the open() function?\n",
    "\n",
    "\n",
    "The open() function in Python allows you to work with files, and it takes two main arguments: the file path and the mode in \n",
    "    which you want to open the file. The mode argument specifies how you intend to interact with the file. There are three \n",
    "    common mode arguments:\n",
    "\n",
    "'r'(Read Mode): This mode is used for reading files. When you open a file in this mode, you can read its contents but \n",
    "    cannot modify or write to it. If the file does not exist, it will raise a FileNotFoundError."
   ]
  },
  {
   "cell_type": "code",
   "execution_count": null,
   "id": "ef2e7295",
   "metadata": {},
   "outputs": [],
   "source": [
    "7. What happens if an existing file is opened in write mode?\n",
    "\n",
    "\n",
    "If you open an existing file in write mode (typically denoted as \"w\" in most programming languages), the following will generally occur:\n",
    "\n",
    "Existing Content Overwritten: The content of the existing file will be completely overwritten with the new data you write to it. If the file \n",
    "    had any previous content, that content will be lost.\n",
    "\n",
    "File Truncated: The file will be truncated, meaning its size will be set to zero bytes, and all previous data will be removed. If you want to keep\n",
    "    the existing content and append new data to it, you should open the file in append mode, which is typically denoted as \"a\" in many programming languages.\n",
    "\n",
    "File Created If Not Exist: If the file doesn't already exist at the specified path, it will be created as a new empty file.\n",
    "\n",
    "Here's an example in Python that demonstrates opening a file in write mode and writing new content to it:\n",
    "\n",
    "python\n",
    "Copy code\n",
    "# Open a file in write mode (existing content will be overwritten)\n",
    "with open(\"example.txt\", \"w\") as file:\n",
    "    file.write(\"This is new content for the file.\")\n",
    "\n",
    "# The content of example.txt is now \"This is new content for the file.\"\n",
    "So, when working with existing files in write mode, be cautious, as it can result in data loss if you don't intend to overwrite the existing content. If you want\n",
    "to preserve the existing content and add new data, consider opening the file in append mode (\"a\") or reading the existing content first, making modifications, and then writing it back to the file.\n",
    "\n",
    "\n",
    "\n",
    "\n",
    "\n"
   ]
  },
  {
   "cell_type": "code",
   "execution_count": null,
   "id": "fecd62e7",
   "metadata": {},
   "outputs": [],
   "source": [
    "8. How do you tell the difference between read() and readlines()?\n",
    "\n",
    "\n",
    "In most programming languages and file handling libraries, read() and readlines() are methods used to read data from a file, \n",
    "but they operate differently and return data in distinct formats. Here's how you can tell the difference between read() and\n",
    "readlines():\n",
    "    \n",
    "read():\n",
    "\n",
    "read() is used to read the entire contents of a file as a single string or bytes object.\n",
    "If you call read() without specifying a size argument, it will read the entire file, or you can specify the maximum number of characters (or bytes) to read as an argument.\n",
    "It returns a single string (or bytes) containing the entire file's content.\n",
    "It reads the file content into memory, so it may not be suitable for very large files.\n",
    "\n",
    "readlines():\n",
    "\n",
    "readlines() is used to read the lines of a file and return them as a list.\n",
    "It reads the file line by line, and each line is represented as a separate element in the list.\n",
    "It is often used when you want to process the file's content line by line or when you need to maintain the file's structure."
   ]
  },
  {
   "cell_type": "code",
   "execution_count": null,
   "id": "5a9009c6",
   "metadata": {},
   "outputs": [],
   "source": []
  }
 ],
 "metadata": {
  "kernelspec": {
   "display_name": "Python 3",
   "language": "python",
   "name": "python3"
  },
  "language_info": {
   "codemirror_mode": {
    "name": "ipython",
    "version": 3
   },
   "file_extension": ".py",
   "mimetype": "text/x-python",
   "name": "python",
   "nbconvert_exporter": "python",
   "pygments_lexer": "ipython3",
   "version": "3.10.9"
  }
 },
 "nbformat": 4,
 "nbformat_minor": 5
}
