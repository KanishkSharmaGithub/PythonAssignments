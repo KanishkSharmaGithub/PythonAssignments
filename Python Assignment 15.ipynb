{
 "cells": [
  {
   "cell_type": "code",
   "execution_count": null,
   "id": "2fd73a3a",
   "metadata": {},
   "outputs": [],
   "source": [
    "1.How many seconds are in an hour? Use the interactive interpreter as a calculator and multiply the\n",
    "number of seconds in a minute (60) by the number of minutes in an hour (also 60).\n",
    "\n",
    "\n",
    "seconds_in_minute = 60\n",
    "minutes_in_hour = 60\n",
    "\n",
    "seconds_in_hour = seconds_in_minute * minutes_in_hour\n",
    "\n",
    "print(seconds_in_hour)"
   ]
  },
  {
   "cell_type": "code",
   "execution_count": null,
   "id": "4f4e0377",
   "metadata": {},
   "outputs": [],
   "source": [
    "2. Assign the result from the previous task (seconds in an hour) to a variable called\n",
    "seconds_per_hour.\n",
    "\n",
    "\n",
    "seconds_in_minute = 60\n",
    "minutes_in_hour = 60\n",
    "\n",
    "# Calculate the number of seconds in an hour and assign it to 'seconds_per_hour'\n",
    "seconds_per_hour = seconds_in_minute * minutes_in_hour\n",
    "\n",
    "print(seconds_per_hour)"
   ]
  },
  {
   "cell_type": "code",
   "execution_count": null,
   "id": "62cfd091",
   "metadata": {},
   "outputs": [],
   "source": [
    "3. How many seconds do you think there are in a day? Make use of the variables seconds per hour\n",
    "and minutes per hour.\n",
    "\n",
    "\n",
    "seconds_per_hour = 3600  # Number of seconds in an hour\n",
    "minutes_per_hour = 60   # Number of minutes in an hour\n",
    "hours_per_day = 24      # Number of hours in a day\n",
    "\n",
    "# Calculate the number of seconds in a day\n",
    "seconds_per_day = seconds_per_hour * minutes_per_hour * hours_per_day\n",
    "\n",
    "print(seconds_per_day)"
   ]
  },
  {
   "cell_type": "code",
   "execution_count": null,
   "id": "7070f1df",
   "metadata": {},
   "outputs": [],
   "source": [
    "4. Calculate seconds per day again, but this time save the result in a variable called seconds_per_day\n",
    "\n",
    "\n",
    "seconds_per_hour = 3600  # Number of seconds in an hour\n",
    "minutes_per_hour = 60    # Number of minutes in an hour\n",
    "hours_per_day = 24       # Number of hours in a day\n",
    "\n",
    "# Calculate the number of seconds in a day and assign it to 'seconds_per_day'\n",
    "seconds_per_day = seconds_per_hour * minutes_per_hour * hours_per_day\n",
    "\n",
    "print(seconds_per_day)"
   ]
  },
  {
   "cell_type": "code",
   "execution_count": null,
   "id": "1258b749",
   "metadata": {},
   "outputs": [],
   "source": [
    "5. Divide seconds_per_day by seconds_per_hour. Use floating-point (/) division.\n",
    "\n",
    "\n",
    "seconds_per_day = 86400  # Number of seconds in a day\n",
    "seconds_per_hour = 3600  # Number of seconds in an hour\n",
    "\n",
    "# Divide seconds_per_day by seconds_per_hour using floating-point division\n",
    "result = seconds_per_day / seconds_per_hour\n",
    "\n",
    "print(result)"
   ]
  },
  {
   "cell_type": "code",
   "execution_count": null,
   "id": "0dcfcd97",
   "metadata": {},
   "outputs": [],
   "source": [
    "6. Divide seconds_per_day by seconds_per_hour, using integer (//) division. Did this number agree\n",
    "with the floating-point value from the previous question, aside from the final .0?\n",
    "\n",
    "\n",
    "seconds_per_day = 86400  # Number of seconds in a day\n",
    "seconds_per_hour = 3600  # Number of seconds in an hour\n",
    "\n",
    "# Divide seconds_per_day by seconds_per_hour using integer division\n",
    "result = seconds_per_day // seconds_per_hour\n",
    "\n",
    "print(result)\n",
    "When you run this code, it will calculate and print the result, which is 24 (without the .0). This value represents the number of whole hours in a day."
   ]
  },
  {
   "cell_type": "code",
   "execution_count": null,
   "id": "014afc62",
   "metadata": {},
   "outputs": [],
   "source": [
    "7. Write a generator, genPrimes, that returns the sequence of prime numbers on successive calls to\n",
    "its next() method: 2, 3, 5, 7, 11, ...\n",
    "    \n",
    "    \n",
    "def genPrimes():\n",
    "    primes = []  # List to store prime numbers\n",
    "    num = 2  # Start with the first prime number, 2\n",
    "    \n",
    "    while True:\n",
    "        is_prime = True\n",
    "        \n",
    "        # Check if 'num' is divisible by any previously found prime numbers\n",
    "        for prime in primes:\n",
    "            if num % prime == 0:\n",
    "                is_prime = False\n",
    "                break\n",
    "        \n",
    "        # If 'num' is prime, yield it and add it to the list of primes\n",
    "        if is_prime:\n",
    "            yield num\n",
    "            primes.append(num)\n",
    "        \n",
    "        # Move on to the next number\n",
    "        num += 1\n",
    "\n",
    "# Create a generator object\n",
    "prime_generator = genPrimes()\n",
    "\n",
    "# Example usage to print the first few prime numbers\n",
    "for _ in range(10):  # Print the first 10 prime numbers\n",
    "    print(next(prime_generator))"
   ]
  }
 ],
 "metadata": {
  "kernelspec": {
   "display_name": "Python 3",
   "language": "python",
   "name": "python3"
  },
  "language_info": {
   "codemirror_mode": {
    "name": "ipython",
    "version": 3
   },
   "file_extension": ".py",
   "mimetype": "text/x-python",
   "name": "python",
   "nbconvert_exporter": "python",
   "pygments_lexer": "ipython3",
   "version": "3.10.9"
  }
 },
 "nbformat": 4,
 "nbformat_minor": 5
}
