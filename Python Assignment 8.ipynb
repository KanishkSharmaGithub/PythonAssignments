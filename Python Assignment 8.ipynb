{
 "cells": [
  {
   "cell_type": "code",
   "execution_count": null,
   "id": "3b1e3ae1",
   "metadata": {},
   "outputs": [],
   "source": [
    "1. Is the Python Standard Library included with PyInputPlus?\n",
    "\n",
    "\n",
    "No, the Python Standard Library is not included with PyInputPlus. PyInputPlus is a separate Python library that provides \n",
    "input validation and other features for user input, but it does not include the entire Python Standard Library."
   ]
  },
  {
   "cell_type": "code",
   "execution_count": null,
   "id": "5ebe57b3",
   "metadata": {},
   "outputs": [],
   "source": [
    "2. Why is PyInputPlus commonly imported with import pyinputplus as pypi?\n",
    "\n",
    "PyInputPlus is commonly imported with the alias \"pypi\" (or another short alias) for brevity and convenience. The choice of\n",
    "alias is not fixed, and you can use any valid Python alias when importing a module. There are a few reasons why developers \n",
    "might choose to use a shorter alias like \"pypi\" when importing PyInputPlus or any other module:\n",
    "    \n",
    "Conciseness: Using a shorter alias can make the code more concise and easier to read. Typing pypi is shorter than pyinputplus, \n",
    "so it reduces the amount of typing required.\n",
    "\n",
    "Avoiding Conflicts: Sometimes, a Python project may use multiple libraries or modules with long names, and using shorter \n",
    " aliases helps avoid naming conflicts. For example, if you have another module or variable with a similar name, using a \n",
    "different alias can prevent ambiguity."
   ]
  },
  {
   "cell_type": "code",
   "execution_count": null,
   "id": "4e3d3b58",
   "metadata": {},
   "outputs": [],
   "source": [
    "3. How do you distinguish between inputInt() and inputFloat()?\n",
    "\n",
    "inputInt(): This function is used to collect an integer input from the user. It ensures that the user enters a valid integer \n",
    "and repeatedly prompts the user until a valid integer is provided. If the user enters a non-integer value, it raises a \n",
    "pyinputplus.RetryLimitException after reaching the maximum number of retries (default is 3) or a pyinputplus.\n",
    "TimeoutException if the input times out (default timeout is None).\n",
    "\n",
    "inputFloat(): This function is used to collect a floating-point (decimal) number input from the user. It works similarly to \n",
    "inputInt() but validates that the user input is a valid float. Like inputInt(), it can also raise exceptions for retries\n",
    " or timeouts."
   ]
  },
  {
   "cell_type": "code",
   "execution_count": null,
   "id": "f632818e",
   "metadata": {},
   "outputs": [],
   "source": [
    "4. Using PyInputPlus, how do you ensure that the user enters a whole number between 0 and 99?\n",
    "\n",
    "\n",
    "import pyinputplus as pypi\n",
    "\n",
    "# Define a custom validation function to check if the input is between 0 and 99\n",
    "def is_valid_number(value):\n",
    "    if 0 <= value <= 99:\n",
    "        return True\n",
    "    else:\n",
    "        return False\n",
    "\n",
    "# Use inputInt() with custom validation\n",
    "number = pypi.inputInt(prompt=\"Please enter a whole number between 0 and 99: \",\n",
    "                       min=0, max=99, \n",
    "                       allowRegexes=[r'^\\d{1,2}$'],  # Allow one or two digits\n",
    "                       blockRegexes=[r'^100$'],      # Block the value \"100\"\n",
    "                       applyFunc=is_valid_number)    # Apply custom validation function\n",
    "\n",
    "print(\"You entered:\", number)"
   ]
  },
  {
   "cell_type": "code",
   "execution_count": null,
   "id": "9cdb89f7",
   "metadata": {},
   "outputs": [],
   "source": [
    "5. What is transferred to the keyword arguments allowRegexes and blockRegexes?\n",
    "\n",
    "\n",
    "allowRegexes: This keyword argument takes a list of regular expressions. It specifies patterns that define which input \n",
    "values are allowed. If the user's input matches any of the regular expressions in this list, it's considered valid.\n",
    "PyInputPlus will not raise an exception for inputs that match these patterns.\n",
    "\n",
    "blockRegexes: This keyword argument also takes a list of regular expressions. It specifies patterns that define which input \n",
    "values are not allowed. If the user's input matches any of the regular expressions in this list, PyInputPlus will raise \n",
    "a pyinputplus.RetryLimitException, indicating that the input is not acceptable."
   ]
  },
  {
   "cell_type": "code",
   "execution_count": null,
   "id": "7a34ea12",
   "metadata": {},
   "outputs": [],
   "source": [
    "6. If a blank input is entered three times, what does inputStr(limit=3) do?\n",
    "\n",
    "\n",
    "import pyinputplus as pypi\n",
    "\n",
    "try:\n",
    "    value = pypi.inputStr(prompt=\"Enter a string: \", limit=3)\n",
    "except pypi.RetryLimitException:\n",
    "    print(\"You reached the maximum number of retries.\")"
   ]
  },
  {
   "cell_type": "code",
   "execution_count": null,
   "id": "abd01c1a",
   "metadata": {},
   "outputs": [],
   "source": [
    "7. If blank input is entered three times, what does inputStr(limit=3, default=&#39;hello&#39;) do?\n",
    "                                                             \n",
    " If blank input is entered three times and you use inputStr(limit=3, default='hello') in PyInputPlus, the function will no\n",
    "raise a pyinputplus.RetryLimitException. Instead, it will return the default value 'hello' after the third attempt. \n",
    "                                                             \n",
    "import pyinputplus as pypi\n",
    "\n",
    "value = pypi.inputStr(prompt=\"Enter a string: \", limit=3, default='hello')\n"
   ]
  },
  {
   "cell_type": "code",
   "execution_count": null,
   "id": "28fcfd32",
   "metadata": {},
   "outputs": [],
   "source": []
  }
 ],
 "metadata": {
  "kernelspec": {
   "display_name": "Python 3",
   "language": "python",
   "name": "python3"
  },
  "language_info": {
   "codemirror_mode": {
    "name": "ipython",
    "version": 3
   },
   "file_extension": ".py",
   "mimetype": "text/x-python",
   "name": "python",
   "nbconvert_exporter": "python",
   "pygments_lexer": "ipython3",
   "version": "3.10.9"
  }
 },
 "nbformat": 4,
 "nbformat_minor": 5
}
