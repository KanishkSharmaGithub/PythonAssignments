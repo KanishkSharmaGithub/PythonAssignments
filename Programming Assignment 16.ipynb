{
 "cells": [
  {
   "cell_type": "code",
   "execution_count": null,
   "id": "ff5acddf",
   "metadata": {},
   "outputs": [],
   "source": [
    "Write a function that stutters a word as if someone is struggling to read it. The\n",
    "first two letters are repeated twice with an ellipsis ... and space after each, and then the\n",
    "word is pronounced with a question mark ?.\n",
    "\n",
    "\n",
    "def stutter_word(word):\n",
    "    # Extract the first two letters\n",
    "    first_two_letters = word[:2]\n",
    "\n",
    "    # Create the stuttered version of the word\n",
    "    stuttered_word = f\"{first_two_letters}... {first_two_letters}... {word}? \"\n",
    "    \n",
    "    return stuttered_word\n",
    "\n",
    "# Example usage:\n",
    "input_word = \"example\"\n",
    "stuttered = stutter_word(input_word)\n",
    "print(f\"Stuttered word: {stuttered}\")"
   ]
  },
  {
   "cell_type": "code",
   "execution_count": null,
   "id": "74a16175",
   "metadata": {},
   "outputs": [],
   "source": [
    "Create a function that takes an angle in radians and returns the corresponding\n",
    "angle in degrees rounded to one decimal place.\n",
    "\n",
    "\n",
    "import math\n",
    "\n",
    "def radians_to_degrees(angle_in_radians):\n",
    "    # Convert radians to degrees\n",
    "    angle_in_degrees = angle_in_radians * (180 / math.pi)\n",
    "    \n",
    "    # Round the result to one decimal place\n",
    "    rounded_degrees = round(angle_in_degrees, 1)\n",
    "    \n",
    "    return rounded_degrees\n",
    "\n",
    "# Example usage:\n",
    "radians_value = 2.5\n",
    "degrees = radians_to_degrees(radians_value)\n",
    "print(f\"{radians_value} radians is approximately {degrees} degrees.\")"
   ]
  },
  {
   "cell_type": "code",
   "execution_count": null,
   "id": "e9276756",
   "metadata": {},
   "outputs": [],
   "source": [
    "In this challenge, establish if a given integer num is a Curzon number. If 1 plus\n",
    "2 elevated to num is exactly divisible by 1 plus 2 multiplied by num, then num is a Curzon\n",
    "number.\n",
    "Given a non-negative integer num, implement a function that returns True if num is a Curzon\n",
    "number, or False otherwise.\n",
    "\n",
    "\n",
    "def is_curzon_number(num):\n",
    "    numerator = 2**num + 1\n",
    "    denominator = 2 * num + 1\n",
    "\n",
    "    return numerator % denominator == 0\n",
    "\n",
    "# Test the function with a number\n",
    "test_number = 5  # Replace this number to test different values\n",
    "result = is_curzon_number(test_number)\n",
    "\n",
    "if result:\n",
    "    print(f\"{test_number} is a Curzon number.\")\n",
    "else:\n",
    "    print(f\"{test_number} is not a Curzon number.\")"
   ]
  },
  {
   "cell_type": "code",
   "execution_count": null,
   "id": "c26b7451",
   "metadata": {},
   "outputs": [],
   "source": [
    "Create a function that returns a base-2 (binary) representation of a base-10\n",
    "(decimal) string number. To convert is simple: ((2) means base-2 and (10) means base-10)\n",
    "010101001(2) = 1 + 8 + 32 + 128.\n",
    "Going from right to left, the value of the most right bit is 1, now from that every bit to the left\n",
    "will be x2 the value, value of an 8 bit binary numbers are (256, 128, 64, 32, 16, 8, 4, 2, 1).\n",
    "\n",
    "\n",
    "def decimal_to_binary(decimal_number):\n",
    "    binary_representation = bin(int(decimal_number))[2:]\n",
    "    return binary_representation\n",
    "\n",
    "# Example usage:\n",
    "decimal_num = \"37\"  # Replace this with any decimal number as a string\n",
    "binary_result = decimal_to_binary(decimal_num)\n",
    "print(f\"The binary representation of {decimal_num} is: {binary_result}\")"
   ]
  }
 ],
 "metadata": {
  "kernelspec": {
   "display_name": "Python 3",
   "language": "python",
   "name": "python3"
  },
  "language_info": {
   "codemirror_mode": {
    "name": "ipython",
    "version": 3
   },
   "file_extension": ".py",
   "mimetype": "text/x-python",
   "name": "python",
   "nbconvert_exporter": "python",
   "pygments_lexer": "ipython3",
   "version": "3.10.9"
  }
 },
 "nbformat": 4,
 "nbformat_minor": 5
}
