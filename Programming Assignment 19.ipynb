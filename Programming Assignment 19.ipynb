{
 "cells": [
  {
   "cell_type": "code",
   "execution_count": null,
   "id": "a734807f",
   "metadata": {},
   "outputs": [],
   "source": [
    "Create a function that takes a string and returns a string in which each character is repeated\n",
    "once.\n",
    "\n",
    "\n",
    "def duplicate_characters(input_string):\n",
    "    duplicated_string = ''.join(c * 2 for c in input_string)\n",
    "    return duplicated_string\n",
    "\n",
    "# Example usage:\n",
    "original_string = \"Hello\"\n",
    "duplicated_result = duplicate_characters(original_string)\n",
    "print(f\"The original string: {original_string}\")\n",
    "print(f\"The string with each character repeated once: {duplicated_result}\")"
   ]
  },
  {
   "cell_type": "code",
   "execution_count": null,
   "id": "cbaaab5e",
   "metadata": {},
   "outputs": [],
   "source": [
    "Create a function that reverses a boolean value and returns the string 'boolean expected'\n",
    "if another variable type is given.\n",
    "\n",
    "\n",
    "def reverse_boolean(value):\n",
    "    if isinstance(value, bool):\n",
    "        return not value\n",
    "    else:\n",
    "        return \"boolean expected\"\n",
    "\n",
    "# Example usage:\n",
    "test_value1 = True\n",
    "test_value2 = \"Hello\"\n",
    "\n",
    "reversed_value1 = reverse_boolean(test_value1)\n",
    "reversed_value2 = reverse_boolean(test_value2)\n",
    "\n",
    "print(f\"Reversed value of {test_value1}: {reversed_value1}\")\n",
    "print(f\"Reversed value of {test_value2}: {reversed_value2}\")"
   ]
  },
  {
   "cell_type": "code",
   "execution_count": null,
   "id": "9a97b351",
   "metadata": {},
   "outputs": [],
   "source": [
    "Create a function that returns the thickness (in meters) of a piece of paper after folding it n\n",
    "number of times. The paper starts off with a thickness of 0.5mm.\n",
    "\n",
    "\n",
    "def paper_thickness_after_folding(folds):\n",
    "    initial_thickness = 0.5 / 1000  # initial thickness in meters\n",
    "    final_thickness = initial_thickness * (2 ** folds)\n",
    "    return final_thickness\n",
    "\n",
    "# Example usage:\n",
    "num_folds = 4\n",
    "result_thickness = paper_thickness_after_folding(num_folds)\n",
    "print(f\"After {num_folds} folds, the thickness of the paper is: {result_thickness} meters\")"
   ]
  },
  {
   "cell_type": "code",
   "execution_count": null,
   "id": "616a817b",
   "metadata": {},
   "outputs": [],
   "source": [
    "Create a function that takes a single string as argument and returns an ordered list containing\n",
    "the indices of all capital letters in the string.\n",
    "\n",
    "\n",
    "def indices_of_capital_letters(input_string):\n",
    "    return [index for index, char in enumerate(input_string) if char.isupper()]\n",
    "\n",
    "# Example usage:\n",
    "test_string = \"Hello World! How Are You?\"\n",
    "capital_indices = indices_of_capital_letters(test_string)\n",
    "print(f\"The indices of capital letters in '{test_string}' are: {capital_indices}\")"
   ]
  },
  {
   "cell_type": "code",
   "execution_count": null,
   "id": "a805d84a",
   "metadata": {},
   "outputs": [],
   "source": [
    "Using list comprehensions, create a function that finds all even numbers from 1 to the given\n",
    "number.\n",
    "\n",
    "\n",
    "def find_even_numbers(n):\n",
    "    return [i for i in range(1, n + 1) if i % 2 == 0]\n",
    "\n",
    "# Example usage:\n",
    "given_number = 20\n",
    "even_numbers = find_even_numbers(given_number)\n",
    "print(f\"All even numbers from 1 to {given_number}: {even_numbers}\")"
   ]
  },
  {
   "cell_type": "code",
   "execution_count": null,
   "id": "8bfd5294",
   "metadata": {},
   "outputs": [],
   "source": []
  }
 ],
 "metadata": {
  "kernelspec": {
   "display_name": "Python 3",
   "language": "python",
   "name": "python3"
  },
  "language_info": {
   "codemirror_mode": {
    "name": "ipython",
    "version": 3
   },
   "file_extension": ".py",
   "mimetype": "text/x-python",
   "name": "python",
   "nbconvert_exporter": "python",
   "pygments_lexer": "ipython3",
   "version": "3.10.9"
  }
 },
 "nbformat": 4,
 "nbformat_minor": 5
}
