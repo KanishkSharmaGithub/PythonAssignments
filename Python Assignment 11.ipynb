{
 "cells": [
  {
   "cell_type": "code",
   "execution_count": null,
   "id": "8c766b3c",
   "metadata": {},
   "outputs": [],
   "source": [
    "1. Create an assert statement that throws an AssertionError if the variable spam is a negative\n",
    "integer.\n",
    "\n",
    "\n",
    "You can use the assert statement to check if a variable spam is a negative integer and raise an AssertionError if the condition is not met. Here's how you can create such an assert statement:\n",
    "\n",
    "\n",
    "spam = -5  # Replace with the value of your 'spam' variable\n",
    "\n",
    "assert spam >= 0, \"spam should be a non-negative integer"
   ]
  },
  {
   "cell_type": "code",
   "execution_count": null,
   "id": "7c6a9ffd",
   "metadata": {},
   "outputs": [],
   "source": [
    "2. Write an assert statement that triggers an AssertionError if the variables eggs and bacon contain\n",
    "strings that are the same as each other, even if their cases are different (that is, &#39;hello&#39; and &#39;hello&#39; are\n",
    "considered the same, and &#39;goodbye&#39; and &#39;GOODbye&#39; are also considered the same).\n",
    "\n",
    "\n",
    "You can use the str.lower() method to convert both eggs and bacon to lowercase and then compare them to check if they contain the same string regardless of case. Here's the assert statement that triggers an AssertionError if the strings are the same:\n",
    "\n",
    "\n",
    "eggs = \"Hello\"  # Replace with your 'eggs' variable\n",
    "bacon = \"heLLo\"  # Replace with your 'bacon' variable\n",
    "\n",
    "assert eggs.lower() != bacon.lower(), \"eggs and bacon shoul"
   ]
  },
  {
   "cell_type": "code",
   "execution_count": null,
   "id": "f99c0584",
   "metadata": {},
   "outputs": [],
   "source": [
    "3. Create an assert statement that throws an AssertionError every time.\n",
    "\n",
    "\n",
    "To create an assert statement that throws an AssertionError every time, you can simply use assert False without any condition that evaluates to True. Here's an example:\n",
    "\n",
    "\n",
    "assert False, \"This assertion always triggers an AssertionErro"
   ]
  },
  {
   "cell_type": "code",
   "execution_count": null,
   "id": "aaf3e6b8",
   "metadata": {},
   "outputs": [],
   "source": [
    "4. What are the two lines that must be present in your software in order to call logging.debug()?\n",
    "\n",
    "\n",
    "Import the logging module:\n",
    "You need to import the logging module in your Python script to use its functions, including logging.debug(). This line should appear at the beginning of your script:\n",
    "\n",
    "import logging\n",
    "Configure the logging system (optional but recommended):\n",
    "While not strictly necessary, it's a good practice to configure the logging system to specify the logging level and how the log messages should be handled (e.g., where they should be written). Here's an example of basic configuration:\n",
    "\n",
    "logging.basicConfig(level=logging.DEBUG)"
   ]
  },
  {
   "cell_type": "code",
   "execution_count": null,
   "id": "217d9158",
   "metadata": {},
   "outputs": [],
   "source": [
    "6. What are the five levels of logging?\n",
    "\n",
    "\n",
    "CRITICAL: The highest level, representing critical errors or system failures that may cause the program to crash or become unusable.\n",
    "\n",
    "ERROR: Indicates significant errors in the program that do not necessarily lead to program termination but should be investigated and addressed.\n",
    "\n",
    "WARNING: Used for non-critical issues or warnings that don't prevent the program from running but may indicate potential problems or unexpected behavior.\n",
    "\n",
    "INFO: Provides general information about the program's execution, which can be useful for understanding its flow and behavior.\n",
    "\n",
    "DEBUG: The lowest level, used for detailed diagnostic information for debugging purposes. Debug messages are typically not included in production code and are meant for developers during development and testing.\n",
    "\n",
    "You can set the logging level for your application to control which messages are included in the log output. For example, if you set the level to INFO, you will see INFO, WARNING, ERROR, and CRITICAL messages in the log. If you set it to DEBUG, you will see all levels, including DEBUG messages.\n",
    "\n"
   ]
  },
  {
   "cell_type": "code",
   "execution_count": null,
   "id": "d1f02294",
   "metadata": {},
   "outputs": [],
   "source": [
    "7. What line of code would you add to your software to disable all logging messages?\n",
    "\n",
    "\n",
    "\n",
    "To disable all logging messages in your Python software, you can set the logging level to a level higher than the highest\n",
    "logging level using the logging.disable() method. By setting it to a level such as logging.CRITICAL + 1, you effectively\n",
    "disable all logging messages. Here's the line of code to add to your software:\n",
    "\n",
    "import logging\n",
    "\n",
    "# Disable all logging messages\n",
    "logging.disable(logging.CRITICAL + 1)"
   ]
  },
  {
   "cell_type": "code",
   "execution_count": null,
   "id": "83ec4f25",
   "metadata": {},
   "outputs": [],
   "source": [
    "8.Why is using logging messages better than using print() to display the same message?\n",
    "\n",
    "\n",
    "\n",
    "Using logging messages is often better than using print() statements for displaying messages in your software for several reasons:\n",
    "\n",
    "Configurability: Logging allows you to configure different log levels (e.g., debug, info, warning, error, critical) and destinations (e.g., console, files) for messages. With print(), you have limited control over this configuration.\n",
    "\n",
    "Granularity: Logging provides different log levels, making it easier to filter and focus on specific types of messages (e.g., errors, warnings, or debugging information). This granularity can help you pinpoint issues and identify their severity.\n",
    "\n",
    "Flexibility: Logging messages can be redirected to different destinations (e.g., files, remote servers, databases) based on configuration. This is especially useful for debugging in production environments without affecting end-users.\n",
    "\n",
    "Persistence: Log messages are typically stored in files or other persistent storage, allowing you to review and analyze them even after the program has finished running. print() messages are typically displayed to the console and disappear once the program terminates.\n",
    "\n",
    "Conditional Logging: You can conditionally enable or disable logging statements based on various criteria (e.g., development vs. production environments or specific configurations) without modifying your code.\n",
    "\n",
    "Standardization: Using the logging module follows a standardized approach to handling messages, making your code more maintainable and readable. It also ensures that log messages adhere to common formatting practices.\n",
    "\n",
    "Performance: While logging does have some performance overhead compared to print(), it can be more efficient than print() when properly configured, especially in scenarios where you need to log a large volume of messages.\n",
    "\n",
    "Integration: Logging integrates well with existing logging frameworks and tools, allowing for centralized log management, analysis, and monitoring."
   ]
  },
  {
   "cell_type": "code",
   "execution_count": null,
   "id": "4a53b7ad",
   "metadata": {},
   "outputs": [],
   "source": [
    "9. What are the differences between the Step Over, Step In, and Step Out buttons in the debugger?\n",
    "\n",
    "\n",
    "Step Over:\n",
    "\n",
    "\"Step Over\" allows you to execute the current line of code and then move to the next line.\n",
    "If the current line contains a function call, the entire function call is executed, and you are taken to the line immediately after the function call.\n",
    "It's useful for quickly advancing through code without diving into the details of function calls.\n",
    "Step In:\n",
    "\n",
    "\"Step In\" allows you to enter and execute the code within a function or method.\n",
    "If the current line contains a function call, \"Step In\" will take you inside the function to debug its code.\n",
    "This is helpful when you want to inspect and debug the internal workings of a specific function.\n",
    "Step Out:\n",
    "\n",
    "\"Step Out\" is used when you are inside a function, and you want to continue execution until you exit that function.\n",
    "It allows you to finish the execution of the current function and return to the caller function or the code that invoked the function.\n",
    "This is useful when you've stepped into a function and want to return to higher-level code quickly."
   ]
  },
  {
   "cell_type": "code",
   "execution_count": null,
   "id": "6545182d",
   "metadata": {},
   "outputs": [],
   "source": [
    "10.After you click Continue, when will the debugger stop ?\n",
    "\n",
    "\n",
    "A Breakpoint is Hit: If you have set breakpoints in your code, the debugger will stop when the program reaches one of those breakpoints. Breakpoints are specific locations in your code where you want the debugger to pause for inspection.\n",
    "\n",
    "An Exception is Raised: If an unhandled exception is raised during program execution, the debugger will automatically pause at the point where the exception occurred. This allows you to inspect the exception details and the program state at that moment.\n",
    "\n",
    "The Program Exits: If your program reaches its natural end and exits normally, the debugger will stop, and the debugging session will typically end. This is when the program has completed its execution.\n",
    "\n",
    "An External Signal is Received: In some cases, external signals, such as user interrupts (e.g., Ctrl+C) or system signals, can cause the debugger to stop the program. For example, pressing Ctrl+C in the console may halt the program and drop you into the debugger.\n"
   ]
  },
  {
   "cell_type": "code",
   "execution_count": null,
   "id": "b27be150",
   "metadata": {},
   "outputs": [],
   "source": [
    "11. What is the concept of a breakpoint?\n",
    "\n",
    "\n",
    "\n",
    "A breakpoint is a debugging feature in programming and development environments that allows you to pause the execution of a \n",
    "program at a specific line of code or a designated point in your code. The primary purpose of a breakpoint is to give you the\n",
    "ability to inspect the program's state, variables, and behavior at that particular moment, aiding in debugging and troubleshooting."
   ]
  }
 ],
 "metadata": {
  "kernelspec": {
   "display_name": "Python 3",
   "language": "python",
   "name": "python3"
  },
  "language_info": {
   "codemirror_mode": {
    "name": "ipython",
    "version": 3
   },
   "file_extension": ".py",
   "mimetype": "text/x-python",
   "name": "python",
   "nbconvert_exporter": "python",
   "pygments_lexer": "ipython3",
   "version": "3.10.9"
  }
 },
 "nbformat": 4,
 "nbformat_minor": 5
}
