{
 "cells": [
  {
   "cell_type": "code",
   "execution_count": null,
   "id": "2efa1ccf",
   "metadata": {},
   "outputs": [],
   "source": [
    "1. What does RGBA stand for?\n",
    "\n",
    "\n",
    "RGBA stands for \"Red, Green, Blue, Alpha.\" It is a color model used in digital graphics and computer imaging to describe colors. RGBA is an extension of the RGB color model, with an additional channel known as the alpha channel.\n",
    "\n",
    "Here's a breakdown of each component in the RGBA color model:\n",
    "\n",
    "R (Red): The red component determines the amount of red color in the pixel. It can have values ranging from 0 (no red) to 255 (full intensity red).\n",
    "\n",
    "G (Green): The green component determines the amount of green color in the pixel. It can have values ranging from 0 (no green) to 255 (full intensity green).\n",
    "\n",
    "B (Blue): The blue component determines the amount of blue color in the pixel. It can have values ranging from 0 (no blue) to 255 (full intensity blue).\n",
    "\n",
    "A (Alpha): The alpha component represents the pixel's transparency or opacity. It can have values ranging from 0 (completely transparent) to 255 (completely opaque). An alpha value of 255 means the pixel is fully visible, while an alpha value of 0 means the pixel is fully transparent."
   ]
  },
  {
   "cell_type": "code",
   "execution_count": null,
   "id": "6aa5e994",
   "metadata": {},
   "outputs": [],
   "source": [
    "2. From the Pillow module, how do you get the RGBA value of any images?\n",
    "\n",
    "\n",
    "from PIL import Image\n",
    "\n",
    "# Open an image file\n",
    "image = Image.open('example.png')\n",
    "\n",
    "# Get the RGBA value of a specific pixel (x, y)\n",
    "x = 100  # Example x-coordinate\n",
    "y = 50   # Example y-coordinate\n",
    "rgba_value = image.getpixel((x, y))\n",
    "\n",
    "# The 'rgba_value' variable now contains a tuple (R, G, B, A)\n",
    "print(f\"RGBA value at ({x}, {y}): {rgba_value}\")"
   ]
  },
  {
   "cell_type": "code",
   "execution_count": null,
   "id": "b8a1e3ac",
   "metadata": {},
   "outputs": [],
   "source": [
    "3. What is a box tuple, and how does it work?\n",
    "\n",
    "\n",
    "from PIL import Image\n",
    "\n",
    "# Open an image file\n",
    "image = Image.open('example.png')\n",
    "\n",
    "# Define a box tuple (left, upper, right, lower)\n",
    "box = (100, 50, 300, 200)\n",
    "\n",
    "# Crop the image to the specified region\n",
    "cropped_image = image.crop(box)\n",
    "\n",
    "# Save the cropped image\n",
    "cropped_image.save('cropped_example.png')"
   ]
  },
  {
   "cell_type": "code",
   "execution_count": null,
   "id": "04edcc9b",
   "metadata": {},
   "outputs": [],
   "source": [
    "4. Use your image and load in notebook then, How can you find out the width and height of an\n",
    "Image object?\n",
    "\n",
    "\n",
    "from PIL import Image\n",
    "\n",
    "# Load an image\n",
    "image = Image.open('example.png')  # Replace 'example.png' with your image file path\n",
    "\n",
    "# Get the width and height of the image using the .size attribute\n",
    "width, height = image.size\n",
    "\n",
    "# Print the width and height\n",
    "print(f\"Width: {width}px\")\n",
    "print(f\"Height: {height}px\")"
   ]
  },
  {
   "cell_type": "code",
   "execution_count": null,
   "id": "93608e85",
   "metadata": {},
   "outputs": [],
   "source": [
    "6. After making changes to an Image object, how could you save it as an image file?\n",
    "\n",
    "\n",
    "After making changes to an Image object using the Pillow library in Python, you can save it as an image file using the save() method of the Image object. Here's how you can do it:\n",
    "\n",
    "Open an image and perform any desired operations or modifications on it.\n",
    "\n",
    "Use the save() method to save the modified image to a file, specifying the file path and format (e.g., JPEG, PNG, GIF) as the argument.\n",
    "from PIL import Image, ImageFilter\n",
    "\n",
    "# Open an image\n",
    "image = Image.open('example.jpg')  # Replace 'example.jpg' with your image file path\n",
    "\n",
    "# Apply a filter (e.g., Gaussian blur) to the image\n",
    "blurred_image = image.filter(ImageFilter.GaussianBlur(radius=5))\n",
    "\n",
    "# Save the modified image as a new file\n",
    "blurred_image.save('blurred_example.jpg')  # Specify the desired file name and format"
   ]
  },
  {
   "cell_type": "code",
   "execution_count": null,
   "id": "1b78a079",
   "metadata": {},
   "outputs": [],
   "source": [
    "7. What module contains Pillow’s shape-drawing code?\n",
    "\n",
    "\n",
    "Pillow's shape-drawing code is contained within the ImageDraw module. The ImageDraw module provides functionality for drawing various shapes, lines, and text on an Image object created using the Pillow library (PIL).\n",
    "\n",
    "You can use the ImageDraw module to perform tasks like drawing rectangles, circles, lines, text, and more on images. Here's an example of how to use it to draw a red rectangle on an image:\n",
    "\n",
    "from PIL import Image, ImageDraw\n",
    "\n",
    "# Open an image\n",
    "image = Image.open('example.png')  # Replace 'example.png' with your image file path\n",
    "\n",
    "# Create an ImageDraw object for drawing on the image\n",
    "draw = ImageDraw.Draw(image)\n",
    "\n",
    "# Define the coordinates for the rectangle's top-left and bottom-right corners\n",
    "x1, y1 = 100, 100  # Top-left corner\n",
    "x2, y2 = 300, 200  # Bottom-right corner\n",
    "\n",
    "# Define the rectangle's outline color (red in this case)\n",
    "outline_color = (255, 0, 0)  # Red in RGB format\n",
    "\n",
    "# Draw a red rectangle on the image\n",
    "draw.rectangle([x1, y1, x2, y2], outline=outline_color)\n",
    "\n",
    "# Save the modified image with the drawn rectangle\n",
    "image.save('image_with_rectangle.png'"
   ]
  },
  {
   "cell_type": "code",
   "execution_count": null,
   "id": "3ab34be8",
   "metadata": {},
   "outputs": [],
   "source": [
    "8. Image objects do not have drawing methods. What kind of object does? How do you get this kind\n",
    "of object?\n",
    "\n",
    "\n",
    "from PIL import Image, ImageDraw\n",
    "\n",
    "# Open an image\n",
    "image = Image.open('example.png')  # Replace 'example.png' with your image file path\n",
    "\n",
    "# Create an ImageDraw object for drawing on the image\n",
    "draw = ImageDraw.Draw(image)\n",
    "\n",
    "# Now 'draw' is an ImageDraw object associated with the 'image'"
   ]
  },
  {
   "cell_type": "code",
   "execution_count": null,
   "id": "3059656c",
   "metadata": {},
   "outputs": [],
   "source": []
  }
 ],
 "metadata": {
  "kernelspec": {
   "display_name": "Python 3",
   "language": "python",
   "name": "python3"
  },
  "language_info": {
   "codemirror_mode": {
    "name": "ipython",
    "version": 3
   },
   "file_extension": ".py",
   "mimetype": "text/x-python",
   "name": "python",
   "nbconvert_exporter": "python",
   "pygments_lexer": "ipython3",
   "version": "3.10.9"
  }
 },
 "nbformat": 4,
 "nbformat_minor": 5
}
