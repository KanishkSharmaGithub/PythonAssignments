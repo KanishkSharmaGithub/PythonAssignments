{
 "cells": [
  {
   "cell_type": "code",
   "execution_count": null,
   "id": "01356ae5",
   "metadata": {},
   "outputs": [],
   "source": [
    "1. In the below elements which of them are values or an expression? eg:- values can be\n",
    "integer or string and expressions will be mathematical operators.\n",
    "\n",
    "* = expressions\n",
    "hello = values\n",
    "-87.8 = values\n",
    "- = expressions\n",
    "/ = expressions\n",
    "+ = expressions\n",
    "6 = values"
   ]
  },
  {
   "cell_type": "code",
   "execution_count": null,
   "id": "0cdcba6c",
   "metadata": {},
   "outputs": [],
   "source": [
    "2. What is the difference between string and variable?\n",
    "\n",
    "String are data, so we can use them to fill up a variable\n",
    "Varible are symbols that you can use to store data in a program"
   ]
  },
  {
   "cell_type": "code",
   "execution_count": null,
   "id": "89925200",
   "metadata": {},
   "outputs": [],
   "source": [
    "3. Describe three different data types.\n",
    "\n",
    "String - It is a alphabeticals characters(\"kanishk\",\"sharma\")\n",
    "Integer - It deals with numeric values.(123,567)\n",
    "Boolean - Boolean data type can be one of the two values either True or False"
   ]
  },
  {
   "cell_type": "code",
   "execution_count": null,
   "id": "caacaa81",
   "metadata": {},
   "outputs": [],
   "source": [
    "4. What is an expression made up of? What do all expressions do?\n",
    "\n",
    "Expressions are combinations of variables constants and operators\n",
    "All expressions perfoms mathematical opration."
   ]
  },
  {
   "cell_type": "code",
   "execution_count": null,
   "id": "cc2aa568",
   "metadata": {},
   "outputs": [],
   "source": [
    "5. This assignment statements, like spam = 10. What is the difference between an\n",
    "expression and a statement?\n",
    "\n",
    "Expressions can be assigned or used as oprerands, while statements can only be declared"
   ]
  },
  {
   "cell_type": "code",
   "execution_count": null,
   "id": "6b9813a1",
   "metadata": {},
   "outputs": [],
   "source": [
    "6. After running the following code, what does the variable bacon contain?\n",
    "bacon = 22\n",
    "bacon + 1\n",
    "\n",
    "It will contain 22+1 = 23"
   ]
  },
  {
   "cell_type": "code",
   "execution_count": null,
   "id": "2d9efefc",
   "metadata": {},
   "outputs": [],
   "source": [
    "7. What should the values of the following two terms be?\n",
    "&#39;spam&#39; + &#39;spamspam&#39;\n",
    "&#39;spam&#39; * 3\n",
    "\n",
    "\n",
    "'spam' + 'spamspam' = 'spamspamspam'\n",
    "\n",
    "'spam'*3 = 'spamspamspam'\n",
    " Both will contain same output"
   ]
  },
  {
   "cell_type": "code",
   "execution_count": null,
   "id": "7924ffa8",
   "metadata": {},
   "outputs": [],
   "source": [
    "8. Why is eggs a valid variable name while 100 is invalid?"
   ]
  },
  {
   "cell_type": "code",
   "execution_count": null,
   "id": "f1dd5294",
   "metadata": {},
   "outputs": [],
   "source": [
    "9. What three functions can be used to get the integer, floating-point number, or string\n",
    "version of a value?\n",
    "\n",
    "int()\n",
    "float()\n",
    "str()"
   ]
  },
  {
   "cell_type": "code",
   "execution_count": null,
   "id": "20d190f9",
   "metadata": {},
   "outputs": [],
   "source": [
    "10. Why does this expression cause an error? How can you fix it?\n",
    "'I have eaten' + 99 +  'burritos'.\n",
    "\n",
    "\n",
    "can only concatenate str (not \"int\") to str\n",
    "\n",
    "'I have eaten' + str(99) + 'burritos'\n",
    "\n",
    "By using str() function we can fix it"
   ]
  },
  {
   "cell_type": "code",
   "execution_count": null,
   "id": "3bdf05e7",
   "metadata": {},
   "outputs": [],
   "source": []
  }
 ],
 "metadata": {
  "kernelspec": {
   "display_name": "Python 3",
   "language": "python",
   "name": "python3"
  },
  "language_info": {
   "codemirror_mode": {
    "name": "ipython",
    "version": 3
   },
   "file_extension": ".py",
   "mimetype": "text/x-python",
   "name": "python",
   "nbconvert_exporter": "python",
   "pygments_lexer": "ipython3",
   "version": "3.10.9"
  }
 },
 "nbformat": 4,
 "nbformat_minor": 5
}
