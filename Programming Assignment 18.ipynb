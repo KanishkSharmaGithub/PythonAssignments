{
 "cells": [
  {
   "cell_type": "code",
   "execution_count": null,
   "id": "39dfece3",
   "metadata": {},
   "outputs": [],
   "source": [
    "Create a function that takes a list of non-negative integers and strings and return a new list\n",
    "without the strings.\n",
    "\n",
    "\n",
    "def remove_strings(input_list):\n",
    "    return [item for item in input_list if not isinstance(item, str)]\n",
    "\n",
    "# Example usage:\n",
    "original_list = [15, \"apple\", 27, \"banana\", 10, \"cherry\", 5]\n",
    "\n",
    "result_list = remove_strings(original_list)\n",
    "print(\"Original list:\", original_list)\n",
    "print(\"List without strings:\", result_list)"
   ]
  },
  {
   "cell_type": "code",
   "execution_count": null,
   "id": "3a33c6b4",
   "metadata": {},
   "outputs": [],
   "source": [
    "The 'Reverser' takes a string as input and returns that string in reverse order, with the\n",
    "opposite case.\n",
    "\n",
    "\n",
    "def reverser(input_string):\n",
    "    reversed_string = input_string[::-1]\n",
    "    reversed_opposite_case = ''.join(\n",
    "        c.upper() if c.islower() else c.lower() for c in reversed_string\n",
    "    )\n",
    "    return reversed_opposite_case\n",
    "\n",
    "# Example usage:\n",
    "input_str = \"Hello World!\"\n",
    "\n",
    "reversed_output = reverser(input_str)\n",
    "print(f\"Original String: {input_str}\")\n",
    "print(f\"Reversed with Opposite Case: {reversed_output}\")"
   ]
  },
  {
   "cell_type": "code",
   "execution_count": null,
   "id": "de97d9b8",
   "metadata": {},
   "outputs": [],
   "source": [
    "Write a function that calculates the factorial of a number recursively.\n",
    "\n",
    "\n",
    "def factorial_recursive(n):\n",
    "    if n == 0 or n == 1:\n",
    "        return 1\n",
    "    else:\n",
    "        return n * factorial_recursive(n - 1)\n",
    "\n",
    "# Example usage:\n",
    "number = 5\n",
    "result = factorial_recursive(number)\n",
    "print(f\"The factorial of {number} is: {result}\")"
   ]
  },
  {
   "cell_type": "code",
   "execution_count": null,
   "id": "e8f6209b",
   "metadata": {},
   "outputs": [],
   "source": [
    "Write a function that moves all elements of one type to the end of the list.\n",
    "\n",
    "\n",
    "def move_elements_to_end(input_list, element_type):\n",
    "    if element_type not in input_list:\n",
    "        return input_list\n",
    "\n",
    "    # Separate elements based on type\n",
    "    type_elements = [el for el in input_list if el == element_type]\n",
    "    other_elements = [el for el in input_list if el != element_type]\n",
    "\n",
    "    return other_elements + type_elements\n",
    "\n",
    "# Example usage:\n",
    "original_list = [1, 2, 3, 4, 2, 5, 6, 2]\n",
    "element_type = 2\n",
    "\n",
    "result_list = move_elements_to_end(original_list, element_type)\n",
    "print(f\"Original list: {original_list}\")\n",
    "print(f\"List with {element_type}s moved to the end: {result_list}\")"
   ]
  },
  {
   "cell_type": "code",
   "execution_count": null,
   "id": "9ffb6eb6",
   "metadata": {},
   "outputs": [],
   "source": []
  },
  {
   "cell_type": "code",
   "execution_count": null,
   "id": "f604348b",
   "metadata": {},
   "outputs": [],
   "source": []
  }
 ],
 "metadata": {
  "kernelspec": {
   "display_name": "Python 3",
   "language": "python",
   "name": "python3"
  },
  "language_info": {
   "codemirror_mode": {
    "name": "ipython",
    "version": 3
   },
   "file_extension": ".py",
   "mimetype": "text/x-python",
   "name": "python",
   "nbconvert_exporter": "python",
   "pygments_lexer": "ipython3",
   "version": "3.10.9"
  }
 },
 "nbformat": 4,
 "nbformat_minor": 5
}
